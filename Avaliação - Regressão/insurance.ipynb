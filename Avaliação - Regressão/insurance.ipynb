{
 "cells": [
  {
   "cell_type": "markdown",
   "metadata": {},
   "source": [
    "# Avaliação - Regressão\n",
    "## Inferir custos médicos do plano de saúde a partir do arquivo insurance.csv"
   ]
  },
  {
   "cell_type": "markdown",
   "metadata": {},
   "source": [
    "### Carregamento dos dados"
   ]
  },
  {
   "cell_type": "code",
   "execution_count": 241,
   "metadata": {},
   "outputs": [],
   "source": [
    "import pandas as pd\n",
    "import numpy as np\n",
    "from pathlib import Path\n",
    "from sklearn.model_selection import train_test_split\n",
    "from sklearn.linear_model import LinearRegression\n",
    "from sklearn.linear_model import SGDRegressor\n",
    "from sklearn.metrics import mean_squared_error\n",
    "from sklearn.metrics import mean_absolute_error\n",
    "from sklearn.metrics import r2_score\n",
    "from sklearn.cluster import KMeans\n",
    "import seaborn as sns\n",
    "from sklearn.preprocessing import MaxAbsScaler\n",
    "import matplotlib.pyplot as plt\n",
    "import umap.umap_ as umap\n",
    "import umap.plot"
   ]
  },
  {
   "cell_type": "code",
   "execution_count": 242,
   "metadata": {},
   "outputs": [
    {
     "data": {
      "text/html": [
       "<div>\n",
       "<style scoped>\n",
       "    .dataframe tbody tr th:only-of-type {\n",
       "        vertical-align: middle;\n",
       "    }\n",
       "\n",
       "    .dataframe tbody tr th {\n",
       "        vertical-align: top;\n",
       "    }\n",
       "\n",
       "    .dataframe thead th {\n",
       "        text-align: right;\n",
       "    }\n",
       "</style>\n",
       "<table border=\"1\" class=\"dataframe\">\n",
       "  <thead>\n",
       "    <tr style=\"text-align: right;\">\n",
       "      <th></th>\n",
       "      <th>age</th>\n",
       "      <th>sex</th>\n",
       "      <th>bmi</th>\n",
       "      <th>children</th>\n",
       "      <th>smoker</th>\n",
       "      <th>region</th>\n",
       "      <th>charges</th>\n",
       "    </tr>\n",
       "  </thead>\n",
       "  <tbody>\n",
       "    <tr>\n",
       "      <th>0</th>\n",
       "      <td>19</td>\n",
       "      <td>female</td>\n",
       "      <td>27.900</td>\n",
       "      <td>0</td>\n",
       "      <td>yes</td>\n",
       "      <td>southwest</td>\n",
       "      <td>16884.92400</td>\n",
       "    </tr>\n",
       "    <tr>\n",
       "      <th>1</th>\n",
       "      <td>18</td>\n",
       "      <td>male</td>\n",
       "      <td>33.770</td>\n",
       "      <td>1</td>\n",
       "      <td>no</td>\n",
       "      <td>southeast</td>\n",
       "      <td>1725.55230</td>\n",
       "    </tr>\n",
       "    <tr>\n",
       "      <th>2</th>\n",
       "      <td>28</td>\n",
       "      <td>male</td>\n",
       "      <td>33.000</td>\n",
       "      <td>3</td>\n",
       "      <td>no</td>\n",
       "      <td>southeast</td>\n",
       "      <td>4449.46200</td>\n",
       "    </tr>\n",
       "    <tr>\n",
       "      <th>3</th>\n",
       "      <td>33</td>\n",
       "      <td>male</td>\n",
       "      <td>22.705</td>\n",
       "      <td>0</td>\n",
       "      <td>no</td>\n",
       "      <td>northwest</td>\n",
       "      <td>21984.47061</td>\n",
       "    </tr>\n",
       "    <tr>\n",
       "      <th>4</th>\n",
       "      <td>32</td>\n",
       "      <td>male</td>\n",
       "      <td>28.880</td>\n",
       "      <td>0</td>\n",
       "      <td>no</td>\n",
       "      <td>northwest</td>\n",
       "      <td>3866.85520</td>\n",
       "    </tr>\n",
       "  </tbody>\n",
       "</table>\n",
       "</div>"
      ],
      "text/plain": [
       "   age     sex     bmi  children smoker     region      charges\n",
       "0   19  female  27.900         0    yes  southwest  16884.92400\n",
       "1   18    male  33.770         1     no  southeast   1725.55230\n",
       "2   28    male  33.000         3     no  southeast   4449.46200\n",
       "3   33    male  22.705         0     no  northwest  21984.47061\n",
       "4   32    male  28.880         0     no  northwest   3866.85520"
      ]
     },
     "execution_count": 242,
     "metadata": {},
     "output_type": "execute_result"
    }
   ],
   "source": [
    "insurance = pd.read_csv(Path('insurance.csv'))\n",
    "insurance.head()"
   ]
  },
  {
   "cell_type": "code",
   "execution_count": 243,
   "metadata": {},
   "outputs": [
    {
     "name": "stdout",
     "output_type": "stream",
     "text": [
      "<class 'pandas.core.frame.DataFrame'>\n",
      "RangeIndex: 1338 entries, 0 to 1337\n",
      "Data columns (total 7 columns):\n",
      " #   Column    Non-Null Count  Dtype  \n",
      "---  ------    --------------  -----  \n",
      " 0   age       1338 non-null   int64  \n",
      " 1   sex       1338 non-null   object \n",
      " 2   bmi       1338 non-null   float64\n",
      " 3   children  1338 non-null   int64  \n",
      " 4   smoker    1338 non-null   object \n",
      " 5   region    1338 non-null   object \n",
      " 6   charges   1338 non-null   float64\n",
      "dtypes: float64(2), int64(2), object(3)\n",
      "memory usage: 73.3+ KB\n"
     ]
    }
   ],
   "source": [
    "insurance.info()"
   ]
  },
  {
   "cell_type": "markdown",
   "metadata": {},
   "source": [
    "### Visualizando os dados"
   ]
  },
  {
   "cell_type": "code",
   "execution_count": 244,
   "metadata": {},
   "outputs": [
    {
     "data": {
      "text/plain": [
       "<seaborn.axisgrid.FacetGrid at 0x1e2c909b940>"
      ]
     },
     "execution_count": 244,
     "metadata": {},
     "output_type": "execute_result"
    },
    {
     "data": {
      "image/png": "[encoded data removed]",
      "text/plain": [
       "<Figure size 591.875x500 with 1 Axes>"
      ]
     },
     "metadata": {},
     "output_type": "display_data"
    }
   ],
   "source": [
    "plt.rcParams['figure.dpi'] = 100\n",
    "plt.rcParams['savefig.dpi'] = 100\n",
    "sns.set_style('whitegrid')\n",
    "sns.lmplot(x ='age', y ='charges', data = insurance, hue ='sex', markers =['o', 'v'])"
   ]
  },
  {
   "cell_type": "code",
   "execution_count": 245,
   "metadata": {},
   "outputs": [
    {
     "data": {
      "text/plain": [
       "<seaborn.axisgrid.FacetGrid at 0x1e2c8f86860>"
      ]
     },
     "execution_count": 245,
     "metadata": {},
     "output_type": "execute_result"
    },
    {
     "data": {
      "image/png": "[encoded data removed]",
      "text/plain": [
       "<Figure size 612.5x500 with 1 Axes>"
      ]
     },
     "metadata": {},
     "output_type": "display_data"
    }
   ],
   "source": [
    "sns.displot(x='charges', data=insurance, hue='region', kind='kde')"
   ]
  },
  {
   "cell_type": "code",
   "execution_count": 246,
   "metadata": {},
   "outputs": [
    {
     "data": {
      "text/plain": [
       "<AxesSubplot:xlabel='age', ylabel='Count'>"
      ]
     },
     "execution_count": 246,
     "metadata": {},
     "output_type": "execute_result"
    },
    {
     "data": {
      "image/png": "[encoded data removed]",
      "text/plain": [
       "<Figure size 600x400 with 1 Axes>"
      ]
     },
     "metadata": {},
     "output_type": "display_data"
    }
   ],
   "source": [
    "sns.histplot(insurance['age'])"
   ]
  },
  {
   "cell_type": "code",
   "execution_count": 247,
   "metadata": {},
   "outputs": [
    {
     "data": {
      "text/plain": [
       "<AxesSubplot:xlabel='sex', ylabel='Count'>"
      ]
     },
     "execution_count": 247,
     "metadata": {},
     "output_type": "execute_result"
    },
    {
     "data": {
      "image/png": "[encoded data removed]",
      "text/plain": [
       "<Figure size 600x400 with 1 Axes>"
      ]
     },
     "metadata": {},
     "output_type": "display_data"
    }
   ],
   "source": [
    "sns.histplot(insurance['sex'])"
   ]
  },
  {
   "cell_type": "code",
   "execution_count": 248,
   "metadata": {},
   "outputs": [
    {
     "data": {
      "text/plain": [
       "<seaborn.axisgrid.FacetGrid at 0x1e2ca1d3a60>"
      ]
     },
     "execution_count": 248,
     "metadata": {},
     "output_type": "execute_result"
    },
    {
     "data": {
      "image/png": "[encoded data removed]",
      "text/plain": [
       "<Figure size 500x500 with 1 Axes>"
      ]
     },
     "metadata": {},
     "output_type": "display_data"
    }
   ],
   "source": [
    "sns.displot(insurance['bmi'])"
   ]
  },
  {
   "cell_type": "code",
   "execution_count": 249,
   "metadata": {},
   "outputs": [
    {
     "data": {
      "text/plain": [
       "<AxesSubplot:xlabel='children', ylabel='Count'>"
      ]
     },
     "execution_count": 249,
     "metadata": {},
     "output_type": "execute_result"
    },
    {
     "data": {
      "image/png": "[encoded data removed]",
      "text/plain": [
       "<Figure size 600x400 with 1 Axes>"
      ]
     },
     "metadata": {},
     "output_type": "display_data"
    }
   ],
   "source": [
    "sns.histplot(insurance['children'])"
   ]
  },
  {
   "cell_type": "code",
   "execution_count": 250,
   "metadata": {},
   "outputs": [
    {
     "data": {
      "text/plain": [
       "<AxesSubplot:xlabel='smoker', ylabel='Count'>"
      ]
     },
     "execution_count": 250,
     "metadata": {},
     "output_type": "execute_result"
    },
    {
     "data": {
      "image/png": "[encoded data removed]",
      "text/plain": [
       "<Figure size 600x400 with 1 Axes>"
      ]
     },
     "metadata": {},
     "output_type": "display_data"
    }
   ],
   "source": [
    "sns.histplot(insurance['smoker'])"
   ]
  },
  {
   "cell_type": "code",
   "execution_count": 251,
   "metadata": {},
   "outputs": [
    {
     "data": {
      "text/plain": [
       "<AxesSubplot:xlabel='region', ylabel='Count'>"
      ]
     },
     "execution_count": 251,
     "metadata": {},
     "output_type": "execute_result"
    },
    {
     "data": {
      "image/png": "[encoded data removed]",
      "text/plain": [
       "<Figure size 600x400 with 1 Axes>"
      ]
     },
     "metadata": {},
     "output_type": "display_data"
    }
   ],
   "source": [
    "sns.histplot(insurance['region'])"
   ]
  },
  {
   "cell_type": "code",
   "execution_count": 252,
   "metadata": {},
   "outputs": [],
   "source": [
    "#normalizar os valores, por exemplo min-max (0-1) para tirar os valores negativos\n",
    "#transformer = MaxAbsScaler().fit(insurance['charges'].values.reshape(-1,1))\n",
    "#transformer = transformer.transform(insurance['charges'].values.reshape(-1,1))\n",
    "#insurance['charges'] = transformer.reshape(-1)\n",
    "#sns.displot(insurance['charges'], kind = 'kde')"
   ]
  },
  {
   "cell_type": "markdown",
   "metadata": {},
   "source": [
    "### Preparação dos dados"
   ]
  },
  {
   "cell_type": "code",
   "execution_count": 253,
   "metadata": {},
   "outputs": [],
   "source": [
    "#função para reverter o pandas.get_dummies()\n",
    "def undummify(df, prefix_sep=\"_\"):\n",
    "    cols2collapse = {\n",
    "        item.split(prefix_sep)[0]: (prefix_sep in item) for item in df.columns\n",
    "    }\n",
    "    series_list = []\n",
    "    for col, needs_to_collapse in cols2collapse.items():\n",
    "        if needs_to_collapse:\n",
    "            undummified = (\n",
    "                df.filter(like=col)\n",
    "                .idxmax(axis=1)\n",
    "                .apply(lambda x: x.split(prefix_sep, maxsplit=1)[1])\n",
    "                .rename(col)\n",
    "            )\n",
    "            series_list.append(undummified)\n",
    "        else:\n",
    "            series_list.append(df[col])\n",
    "    undummified_df = pd.concat(series_list, axis=1)\n",
    "    return undummified_df"
   ]
  },
  {
   "cell_type": "code",
   "execution_count": 254,
   "metadata": {},
   "outputs": [
    {
     "data": {
      "text/html": [
       "<div>\n",
       "<style scoped>\n",
       "    .dataframe tbody tr th:only-of-type {\n",
       "        vertical-align: middle;\n",
       "    }\n",
       "\n",
       "    .dataframe tbody tr th {\n",
       "        vertical-align: top;\n",
       "    }\n",
       "\n",
       "    .dataframe thead th {\n",
       "        text-align: right;\n",
       "    }\n",
       "</style>\n",
       "<table border=\"1\" class=\"dataframe\">\n",
       "  <thead>\n",
       "    <tr style=\"text-align: right;\">\n",
       "      <th></th>\n",
       "      <th>sex_female</th>\n",
       "      <th>sex_male</th>\n",
       "      <th>region_northeast</th>\n",
       "      <th>region_northwest</th>\n",
       "      <th>region_southeast</th>\n",
       "      <th>region_southwest</th>\n",
       "      <th>smoker_no</th>\n",
       "      <th>smoker_yes</th>\n",
       "    </tr>\n",
       "  </thead>\n",
       "  <tbody>\n",
       "    <tr>\n",
       "      <th>0</th>\n",
       "      <td>1</td>\n",
       "      <td>0</td>\n",
       "      <td>0</td>\n",
       "      <td>0</td>\n",
       "      <td>0</td>\n",
       "      <td>1</td>\n",
       "      <td>0</td>\n",
       "      <td>1</td>\n",
       "    </tr>\n",
       "    <tr>\n",
       "      <th>1</th>\n",
       "      <td>0</td>\n",
       "      <td>1</td>\n",
       "      <td>0</td>\n",
       "      <td>0</td>\n",
       "      <td>1</td>\n",
       "      <td>0</td>\n",
       "      <td>1</td>\n",
       "      <td>0</td>\n",
       "    </tr>\n",
       "    <tr>\n",
       "      <th>2</th>\n",
       "      <td>0</td>\n",
       "      <td>1</td>\n",
       "      <td>0</td>\n",
       "      <td>0</td>\n",
       "      <td>1</td>\n",
       "      <td>0</td>\n",
       "      <td>1</td>\n",
       "      <td>0</td>\n",
       "    </tr>\n",
       "    <tr>\n",
       "      <th>3</th>\n",
       "      <td>0</td>\n",
       "      <td>1</td>\n",
       "      <td>0</td>\n",
       "      <td>1</td>\n",
       "      <td>0</td>\n",
       "      <td>0</td>\n",
       "      <td>1</td>\n",
       "      <td>0</td>\n",
       "    </tr>\n",
       "    <tr>\n",
       "      <th>4</th>\n",
       "      <td>0</td>\n",
       "      <td>1</td>\n",
       "      <td>0</td>\n",
       "      <td>1</td>\n",
       "      <td>0</td>\n",
       "      <td>0</td>\n",
       "      <td>1</td>\n",
       "      <td>0</td>\n",
       "    </tr>\n",
       "  </tbody>\n",
       "</table>\n",
       "</div>"
      ],
      "text/plain": [
       "   sex_female  sex_male  region_northeast  region_northwest  region_southeast  \\\n",
       "0           1         0                 0                 0                 0   \n",
       "1           0         1                 0                 0                 1   \n",
       "2           0         1                 0                 0                 1   \n",
       "3           0         1                 0                 1                 0   \n",
       "4           0         1                 0                 1                 0   \n",
       "\n",
       "   region_southwest  smoker_no  smoker_yes  \n",
       "0                 1          0           1  \n",
       "1                 0          1           0  \n",
       "2                 0          1           0  \n",
       "3                 0          1           0  \n",
       "4                 0          1           0  "
      ]
     },
     "execution_count": 254,
     "metadata": {},
     "output_type": "execute_result"
    }
   ],
   "source": [
    "one_hot_encoding = pd.get_dummies(insurance[['sex', 'region', 'smoker']])\n",
    "one_hot_encoding.head()"
   ]
  },
  {
   "cell_type": "code",
   "execution_count": 255,
   "metadata": {},
   "outputs": [],
   "source": [
    "insurance = insurance.drop(['sex', 'region', 'smoker'], axis = 1)"
   ]
  },
  {
   "cell_type": "code",
   "execution_count": 256,
   "metadata": {},
   "outputs": [
    {
     "name": "stdout",
     "output_type": "stream",
     "text": [
      "<class 'pandas.core.frame.DataFrame'>\n",
      "RangeIndex: 1338 entries, 0 to 1337\n",
      "Data columns (total 12 columns):\n",
      " #   Column            Non-Null Count  Dtype  \n",
      "---  ------            --------------  -----  \n",
      " 0   age               1338 non-null   int64  \n",
      " 1   bmi               1338 non-null   float64\n",
      " 2   children          1338 non-null   int64  \n",
      " 3   charges           1338 non-null   float64\n",
      " 4   sex_female        1338 non-null   uint8  \n",
      " 5   sex_male          1338 non-null   uint8  \n",
      " 6   region_northeast  1338 non-null   uint8  \n",
      " 7   region_northwest  1338 non-null   uint8  \n",
      " 8   region_southeast  1338 non-null   uint8  \n",
      " 9   region_southwest  1338 non-null   uint8  \n",
      " 10  smoker_no         1338 non-null   uint8  \n",
      " 11  smoker_yes        1338 non-null   uint8  \n",
      "dtypes: float64(2), int64(2), uint8(8)\n",
      "memory usage: 52.4 KB\n"
     ]
    }
   ],
   "source": [
    "insurance = pd.concat([insurance, one_hot_encoding], axis=1)\n",
    "insurance.info()"
   ]
  },
  {
   "cell_type": "code",
   "execution_count": 257,
   "metadata": {},
   "outputs": [
    {
     "data": {
      "text/plain": [
       "smoker_no          -0.787251\n",
       "sex_female         -0.057292\n",
       "region_southwest   -0.043210\n",
       "region_northwest   -0.039905\n",
       "region_northeast    0.006349\n",
       "sex_male            0.057292\n",
       "children            0.067998\n",
       "region_southeast    0.073982\n",
       "bmi                 0.198341\n",
       "age                 0.299008\n",
       "smoker_yes          0.787251\n",
       "charges             1.000000\n",
       "Name: charges, dtype: float64"
      ]
     },
     "execution_count": 257,
     "metadata": {},
     "output_type": "execute_result"
    }
   ],
   "source": [
    "insurance.corr()['charges'].sort_values()"
   ]
  },
  {
   "cell_type": "code",
   "execution_count": 258,
   "metadata": {},
   "outputs": [
    {
     "name": "stdout",
     "output_type": "stream",
     "text": [
      "1070 train + 268 test\n"
     ]
    }
   ],
   "source": [
    "train_set, test_set = train_test_split(insurance, test_size=0.2, random_state=42)\n",
    "print(len(train_set), \"train +\", len(test_set), \"test\")"
   ]
  },
  {
   "cell_type": "code",
   "execution_count": 259,
   "metadata": {},
   "outputs": [],
   "source": [
    "y_train, y_test = train_set['charges'], test_set['charges']"
   ]
  },
  {
   "cell_type": "code",
   "execution_count": 260,
   "metadata": {},
   "outputs": [
    {
     "data": {
      "text/html": [
       "<div>\n",
       "<style scoped>\n",
       "    .dataframe tbody tr th:only-of-type {\n",
       "        vertical-align: middle;\n",
       "    }\n",
       "\n",
       "    .dataframe tbody tr th {\n",
       "        vertical-align: top;\n",
       "    }\n",
       "\n",
       "    .dataframe thead th {\n",
       "        text-align: right;\n",
       "    }\n",
       "</style>\n",
       "<table border=\"1\" class=\"dataframe\">\n",
       "  <thead>\n",
       "    <tr style=\"text-align: right;\">\n",
       "      <th></th>\n",
       "      <th>age</th>\n",
       "      <th>bmi</th>\n",
       "      <th>children</th>\n",
       "      <th>sex_female</th>\n",
       "      <th>sex_male</th>\n",
       "      <th>region_northeast</th>\n",
       "      <th>region_northwest</th>\n",
       "      <th>region_southeast</th>\n",
       "      <th>region_southwest</th>\n",
       "      <th>smoker_no</th>\n",
       "      <th>smoker_yes</th>\n",
       "    </tr>\n",
       "  </thead>\n",
       "  <tbody>\n",
       "    <tr>\n",
       "      <th>560</th>\n",
       "      <td>46</td>\n",
       "      <td>19.95</td>\n",
       "      <td>2</td>\n",
       "      <td>1</td>\n",
       "      <td>0</td>\n",
       "      <td>0</td>\n",
       "      <td>1</td>\n",
       "      <td>0</td>\n",
       "      <td>0</td>\n",
       "      <td>1</td>\n",
       "      <td>0</td>\n",
       "    </tr>\n",
       "    <tr>\n",
       "      <th>1285</th>\n",
       "      <td>47</td>\n",
       "      <td>24.32</td>\n",
       "      <td>0</td>\n",
       "      <td>1</td>\n",
       "      <td>0</td>\n",
       "      <td>1</td>\n",
       "      <td>0</td>\n",
       "      <td>0</td>\n",
       "      <td>0</td>\n",
       "      <td>1</td>\n",
       "      <td>0</td>\n",
       "    </tr>\n",
       "    <tr>\n",
       "      <th>1142</th>\n",
       "      <td>52</td>\n",
       "      <td>24.86</td>\n",
       "      <td>0</td>\n",
       "      <td>1</td>\n",
       "      <td>0</td>\n",
       "      <td>0</td>\n",
       "      <td>0</td>\n",
       "      <td>1</td>\n",
       "      <td>0</td>\n",
       "      <td>1</td>\n",
       "      <td>0</td>\n",
       "    </tr>\n",
       "    <tr>\n",
       "      <th>969</th>\n",
       "      <td>39</td>\n",
       "      <td>34.32</td>\n",
       "      <td>5</td>\n",
       "      <td>1</td>\n",
       "      <td>0</td>\n",
       "      <td>0</td>\n",
       "      <td>0</td>\n",
       "      <td>1</td>\n",
       "      <td>0</td>\n",
       "      <td>1</td>\n",
       "      <td>0</td>\n",
       "    </tr>\n",
       "    <tr>\n",
       "      <th>486</th>\n",
       "      <td>54</td>\n",
       "      <td>21.47</td>\n",
       "      <td>3</td>\n",
       "      <td>1</td>\n",
       "      <td>0</td>\n",
       "      <td>0</td>\n",
       "      <td>1</td>\n",
       "      <td>0</td>\n",
       "      <td>0</td>\n",
       "      <td>1</td>\n",
       "      <td>0</td>\n",
       "    </tr>\n",
       "  </tbody>\n",
       "</table>\n",
       "</div>"
      ],
      "text/plain": [
       "      age    bmi  children  sex_female  sex_male  region_northeast  \\\n",
       "560    46  19.95         2           1         0                 0   \n",
       "1285   47  24.32         0           1         0                 1   \n",
       "1142   52  24.86         0           1         0                 0   \n",
       "969    39  34.32         5           1         0                 0   \n",
       "486    54  21.47         3           1         0                 0   \n",
       "\n",
       "      region_northwest  region_southeast  region_southwest  smoker_no  \\\n",
       "560                  1                 0                 0          1   \n",
       "1285                 0                 0                 0          1   \n",
       "1142                 0                 1                 0          1   \n",
       "969                  0                 1                 0          1   \n",
       "486                  1                 0                 0          1   \n",
       "\n",
       "      smoker_yes  \n",
       "560            0  \n",
       "1285           0  \n",
       "1142           0  \n",
       "969            0  \n",
       "486            0  "
      ]
     },
     "execution_count": 260,
     "metadata": {},
     "output_type": "execute_result"
    }
   ],
   "source": [
    "x_train, x_test = train_set.drop(['charges'], axis=1), test_set.drop(['charges'], axis=1)\n",
    "x_train.head()"
   ]
  },
  {
   "cell_type": "markdown",
   "metadata": {},
   "source": [
    "### Treinamento e avaliação"
   ]
  },
  {
   "cell_type": "markdown",
   "metadata": {},
   "source": [
    "### Método dos Mínimos Quadrados"
   ]
  },
  {
   "cell_type": "code",
   "execution_count": 261,
   "metadata": {},
   "outputs": [],
   "source": [
    "lin_reg = LinearRegression() \n",
    "lin_reg.fit(x_train,y_train)\n",
    "resultado=lin_reg.predict(x_test)"
   ]
  },
  {
   "cell_type": "code",
   "execution_count": 262,
   "metadata": {},
   "outputs": [
    {
     "name": "stdout",
     "output_type": "stream",
     "text": [
      "33596915.851361476\n"
     ]
    }
   ],
   "source": [
    "#o melhor valor é 0.0\n",
    "print(mean_squared_error(y_test, resultado))"
   ]
  },
  {
   "cell_type": "code",
   "execution_count": 263,
   "metadata": {},
   "outputs": [
    {
     "name": "stdout",
     "output_type": "stream",
     "text": [
      "4181.1944737536505\n"
     ]
    }
   ],
   "source": [
    "#o melhor valor é 0.0\n",
    "print(mean_absolute_error(y_test, resultado))"
   ]
  },
  {
   "cell_type": "code",
   "execution_count": 264,
   "metadata": {},
   "outputs": [
    {
     "name": "stdout",
     "output_type": "stream",
     "text": [
      "0.7835929767120722\n"
     ]
    }
   ],
   "source": [
    "#o melhor valor é 1.0\n",
    "print(r2_score(y_test, resultado))"
   ]
  },
  {
   "cell_type": "code",
   "execution_count": 265,
   "metadata": {},
   "outputs": [
    {
     "name": "stdout",
     "output_type": "stream",
     "text": [
      "Valor mínimo: 1121.8739\n",
      "Valor máximo: 62592.87309\n",
      "Média: 13346.089736364485\n"
     ]
    }
   ],
   "source": [
    "print(f'Valor mínimo: {min(y_train)}')\n",
    "print(f'Valor máximo: {max(y_train)}')\n",
    "print(f'Média: {np.mean(y_train)}')"
   ]
  },
  {
   "cell_type": "code",
   "execution_count": 266,
   "metadata": {},
   "outputs": [
    {
     "name": "stdout",
     "output_type": "stream",
     "text": [
      "Valor mínimo: -1545.5718493380846\n",
      "Valor máximo: 40920.29151164597\n",
      "Média: 13187.557732494492\n",
      "Intercept: -574.5357125102091\n"
     ]
    }
   ],
   "source": [
    "print(f'Valor mínimo: {min(resultado)}')\n",
    "print(f'Valor máximo: {max(resultado)}')\n",
    "print(f'Média: {np.mean(resultado)}')\n",
    "print(f'Intercept: {lin_reg.intercept_}')"
   ]
  },
  {
   "cell_type": "code",
   "execution_count": 267,
   "metadata": {},
   "outputs": [
    {
     "data": {
      "text/plain": [
       "array([ 2.56975706e+02,  3.37092552e+02,  4.25278784e+02,  9.29584582e+00,\n",
       "       -9.29584582e+00,  4.59585244e+02,  8.89079180e+01, -1.98279052e+02,\n",
       "       -3.50214110e+02, -1.18255644e+04,  1.18255644e+04])"
      ]
     },
     "execution_count": 267,
     "metadata": {},
     "output_type": "execute_result"
    }
   ],
   "source": [
    "lin_reg.coef_"
   ]
  },
  {
   "cell_type": "code",
   "execution_count": 268,
   "metadata": {},
   "outputs": [
    {
     "data": {
      "text/plain": [
       "<AxesSubplot:xlabel='sex_female', ylabel='Count'>"
      ]
     },
     "execution_count": 268,
     "metadata": {},
     "output_type": "execute_result"
    },
    {
     "data": {
      "image/png": "[encoded data removed]",
      "text/plain": [
       "<Figure size 600x400 with 1 Axes>"
      ]
     },
     "metadata": {},
     "output_type": "display_data"
    }
   ],
   "source": [
    "#fazer histograma dos atributos mais e menos importantes, respectivamente\n",
    "sns.histplot(x_train['sex_female'])"
   ]
  },
  {
   "cell_type": "code",
   "execution_count": 269,
   "metadata": {},
   "outputs": [
    {
     "data": {
      "text/plain": [
       "<AxesSubplot:xlabel='smoker_yes', ylabel='Count'>"
      ]
     },
     "execution_count": 269,
     "metadata": {},
     "output_type": "execute_result"
    },
    {
     "data": {
      "image/png": "[encoded data removed]",
      "text/plain": [
       "<Figure size 600x400 with 1 Axes>"
      ]
     },
     "metadata": {},
     "output_type": "display_data"
    }
   ],
   "source": [
    "sns.histplot(x_train['smoker_yes'])"
   ]
  },
  {
   "cell_type": "code",
   "execution_count": 270,
   "metadata": {},
   "outputs": [],
   "source": [
    "def cria_label(valor):\n",
    "    if valor <= 10000:\n",
    "        return '$0-10,000'\n",
    "    elif valor in range(10001,20001):\n",
    "        return '$10,001-20,000'\n",
    "    elif valor in range(20001,30001):\n",
    "        return '$20,001-30,000'\n",
    "    elif valor in range(30001,40001):\n",
    "        return '$30,001-40,000'\n",
    "    elif valor in range(40001,50001):\n",
    "        return '$40,001-50,000'\n",
    "    elif valor in range(50001,60001):\n",
    "        return '$50,001-60,000'\n",
    "    else:\n",
    "        return '$60,001+'\n",
    "\n",
    "insurance['charges'] = [round(x) for x in insurance['charges']]\n",
    "for index in range(0, len(insurance)):\n",
    "    insurance.at[index, 'labels'] = cria_label(insurance.at[index, 'charges'])"
   ]
  },
  {
   "cell_type": "code",
   "execution_count": 271,
   "metadata": {},
   "outputs": [
    {
     "data": {
      "text/plain": [
       "$0-10,000         712\n",
       "$10,001-20,000    353\n",
       "$20,001-30,000    111\n",
       "$30,001-40,000     83\n",
       "$40,001-50,000     72\n",
       "$50,001-60,000      4\n",
       "$60,001+            3\n",
       "Name: labels, dtype: int64"
      ]
     },
     "execution_count": 271,
     "metadata": {},
     "output_type": "execute_result"
    }
   ],
   "source": [
    "insurance['labels'].value_counts()"
   ]
  },
  {
   "cell_type": "code",
   "execution_count": 272,
   "metadata": {},
   "outputs": [],
   "source": [
    "#Gráfico de cluster com rótulos - UMPA\n",
    "\n",
    "#mapper = umap.UMAP().fit(insurance['charges'].values.reshape(-1,1))\n",
    "#sent_labels = insurance['labels']\n",
    "#sent_labels.value_counts()\n",
    "#umap.plot.points(mapper, labels=sent_labels)"
   ]
  },
  {
   "cell_type": "code",
   "execution_count": 273,
   "metadata": {},
   "outputs": [],
   "source": [
    "#Gráfico de cluster sem rótulos - UMPA\n",
    "\n",
    "#umap_embedder = umap.UMAP()\n",
    "#umap_features = umap_embedder.fit_transform(insurance['charges'].values.reshape(-1,1))\n",
    "\n",
    "# Choose number of clusters and colormap\n",
    "#n_clusters=7\n",
    "#cmap = plt.get_cmap(\"Set2\")\n",
    "#fig = plt.figure(figsize=(7, 7))\n",
    "\n",
    "\n",
    "# Fit clustering algorithm to our vectorized features\n",
    "#clus = KMeans(n_clusters=n_clusters, random_state=10)\n",
    "#clusters = clus.fit_predict(insurance['charges'].values.reshape(-1,1))\n",
    "\n",
    "# Plot the dimentionality reduced features on a 2D plane\n",
    "#plt.scatter(umap_features[:, 0], umap_features[:, 1], \n",
    "#            c=[cmap(x/n_clusters) for x in clusters], s=40, alpha=.4)\n",
    "#plt.title('UMAP projection of questions, colored by clusters', fontsize=7);"
   ]
  },
  {
   "cell_type": "markdown",
   "metadata": {},
   "source": [
    "### Gradiente Descendente"
   ]
  },
  {
   "cell_type": "code",
   "execution_count": 306,
   "metadata": {},
   "outputs": [
    {
     "name": "stdout",
     "output_type": "stream",
     "text": [
      "-- Epoch 1\n",
      "Norm: 116321513745.15, NNZs: 11, Bias: 147712842.716022, T: 1070, Avg. loss: 6289007220945519753822208.000000\n",
      "Total training time: 0.00 seconds.\n",
      "-- Epoch 2\n",
      "Norm: 147367669799.08, NNZs: 11, Bias: -5340919246.960052, T: 2140, Avg. loss: 2375188857038774019817472.000000\n",
      "Total training time: 0.00 seconds.\n",
      "-- Epoch 3\n",
      "Norm: 128801421211.84, NNZs: 11, Bias: 5648970298.208838, T: 3210, Avg. loss: 1728102168484478818713600.000000\n",
      "Total training time: 0.00 seconds.\n",
      "-- Epoch 4\n",
      "Norm: 105907178614.11, NNZs: 11, Bias: 4098575204.974598, T: 4280, Avg. loss: 1384503068945942199664640.000000\n",
      "Total training time: 0.00 seconds.\n",
      "-- Epoch 5\n",
      "Norm: 49048498422.37, NNZs: 11, Bias: 5124958458.692163, T: 5350, Avg. loss: 1170339236736482072854528.000000\n",
      "Total training time: 0.00 seconds.\n",
      "-- Epoch 6\n",
      "Norm: 64827136419.00, NNZs: 11, Bias: -921711232.367926, T: 6420, Avg. loss: 883159473500830436425728.000000\n",
      "Total training time: 0.00 seconds.\n",
      "-- Epoch 7\n",
      "Norm: 47501579803.99, NNZs: 11, Bias: 2056204563.316106, T: 7490, Avg. loss: 806177350073567030542336.000000\n",
      "Total training time: 0.00 seconds.\n",
      "-- Epoch 8\n",
      "Norm: 42469246063.88, NNZs: 11, Bias: 8943959157.405489, T: 8560, Avg. loss: 742063404546882638184448.000000\n",
      "Total training time: 0.00 seconds.\n",
      "-- Epoch 9\n",
      "Norm: 50585120511.01, NNZs: 11, Bias: 12133495927.143808, T: 9630, Avg. loss: 601150461151512358813696.000000\n",
      "Total training time: 0.00 seconds.\n",
      "-- Epoch 10\n",
      "Norm: 53509533507.80, NNZs: 11, Bias: 15503311964.138672, T: 10700, Avg. loss: 574302616208077737689088.000000\n",
      "Total training time: 0.00 seconds.\n",
      "-- Epoch 11\n",
      "Norm: 71643205771.64, NNZs: 11, Bias: 17683502502.739887, T: 11770, Avg. loss: 455891604869415268515840.000000\n",
      "Total training time: 0.00 seconds.\n",
      "-- Epoch 12\n",
      "Norm: 57842450512.24, NNZs: 11, Bias: 11997044007.549915, T: 12840, Avg. loss: 470652384591871555403776.000000\n",
      "Total training time: 0.00 seconds.\n",
      "-- Epoch 13\n",
      "Norm: 56418427185.06, NNZs: 11, Bias: 12983273854.504200, T: 13910, Avg. loss: 413531828646257444782080.000000\n",
      "Total training time: 0.00 seconds.\n",
      "-- Epoch 14\n",
      "Norm: 33852122102.21, NNZs: 11, Bias: 12937243113.678259, T: 14980, Avg. loss: 357845697018474623139840.000000\n",
      "Total training time: 0.00 seconds.\n",
      "-- Epoch 15\n",
      "Norm: 37792427398.79, NNZs: 11, Bias: 12124106877.958794, T: 16050, Avg. loss: 321498674351622634602496.000000\n",
      "Total training time: 0.00 seconds.\n",
      "-- Epoch 16\n",
      "Norm: 43609391988.31, NNZs: 11, Bias: 9782757091.569254, T: 17120, Avg. loss: 287202798114030995111936.000000\n",
      "Total training time: 0.00 seconds.\n",
      "-- Epoch 17\n",
      "Norm: 37444136511.57, NNZs: 11, Bias: 8813146813.882748, T: 18190, Avg. loss: 237312710695489346994176.000000\n",
      "Total training time: 0.00 seconds.\n",
      "-- Epoch 18\n",
      "Norm: 35901058346.40, NNZs: 11, Bias: 8713111675.945580, T: 19260, Avg. loss: 239134101059169582841856.000000\n",
      "Total training time: 0.00 seconds.\n",
      "-- Epoch 19\n",
      "Norm: 20383062350.91, NNZs: 11, Bias: 2574870947.768590, T: 20330, Avg. loss: 235172621009506782937088.000000\n",
      "Total training time: 0.00 seconds.\n",
      "-- Epoch 20\n",
      "Norm: 26997628542.37, NNZs: 11, Bias: 4855208545.226212, T: 21400, Avg. loss: 170579636451452458631168.000000\n",
      "Total training time: 0.00 seconds.\n",
      "-- Epoch 21\n",
      "Norm: 21865176924.16, NNZs: 11, Bias: 1686892601.884278, T: 22470, Avg. loss: 199920164725658264535040.000000\n",
      "Total training time: 0.01 seconds.\n",
      "-- Epoch 22\n",
      "Norm: 14219200783.85, NNZs: 11, Bias: 2504535680.100526, T: 23540, Avg. loss: 141722293845274723876864.000000\n",
      "Total training time: 0.01 seconds.\n",
      "-- Epoch 23\n",
      "Norm: 19546673854.07, NNZs: 11, Bias: 2002817517.370191, T: 24610, Avg. loss: 136476689953440256753664.000000\n",
      "Total training time: 0.01 seconds.\n",
      "-- Epoch 24\n",
      "Norm: 25069429075.59, NNZs: 11, Bias: 1861575639.445786, T: 25680, Avg. loss: 111921821410661171724288.000000\n",
      "Total training time: 0.01 seconds.\n",
      "-- Epoch 25\n",
      "Norm: 21877109488.28, NNZs: 11, Bias: 2762746751.199977, T: 26750, Avg. loss: 100824309214129890000896.000000\n",
      "Total training time: 0.01 seconds.\n",
      "-- Epoch 26\n",
      "Norm: 16305560758.26, NNZs: 11, Bias: 3450358010.168930, T: 27820, Avg. loss: 81944541996223941312512.000000\n",
      "Total training time: 0.01 seconds.\n",
      "-- Epoch 27\n",
      "Norm: 16169112393.04, NNZs: 11, Bias: 4214688371.095142, T: 28890, Avg. loss: 82092731576199038369792.000000\n",
      "Total training time: 0.01 seconds.\n",
      "-- Epoch 28\n",
      "Norm: 13453188375.83, NNZs: 11, Bias: 3608613677.504535, T: 29960, Avg. loss: 58120988365915858927616.000000\n",
      "Total training time: 0.01 seconds.\n",
      "-- Epoch 29\n",
      "Norm: 19910643933.88, NNZs: 11, Bias: 4659765156.166104, T: 31030, Avg. loss: 84258516051845634326528.000000\n",
      "Total training time: 0.01 seconds.\n",
      "-- Epoch 30\n",
      "Norm: 16628308179.57, NNZs: 11, Bias: 3152588322.901320, T: 32100, Avg. loss: 45419959433703358201856.000000\n",
      "Total training time: 0.01 seconds.\n",
      "-- Epoch 31\n",
      "Norm: 16683449431.73, NNZs: 11, Bias: 1352340777.617345, T: 33170, Avg. loss: 66930651485111341547520.000000\n",
      "Total training time: 0.01 seconds.\n",
      "-- Epoch 32\n",
      "Norm: 13048727394.40, NNZs: 11, Bias: 276816493.853180, T: 34240, Avg. loss: 55295002524826101350400.000000\n",
      "Total training time: 0.01 seconds.\n",
      "-- Epoch 33\n",
      "Norm: 7776654231.53, NNZs: 11, Bias: -726300127.334256, T: 35310, Avg. loss: 22460768468870285492224.000000\n",
      "Total training time: 0.01 seconds.\n",
      "-- Epoch 34\n",
      "Norm: 7719212030.22, NNZs: 11, Bias: -1972948959.640899, T: 36380, Avg. loss: 37719946912823500603392.000000\n",
      "Total training time: 0.01 seconds.\n",
      "-- Epoch 35\n",
      "Norm: 7319454016.16, NNZs: 11, Bias: -1659427963.632904, T: 37450, Avg. loss: 3169564391122379735040.000000\n",
      "Total training time: 0.01 seconds.\n",
      "-- Epoch 36\n",
      "Norm: 8917049521.09, NNZs: 11, Bias: -1682510228.189756, T: 38520, Avg. loss: 29784958596183064838144.000000\n",
      "Total training time: 0.01 seconds.\n",
      "-- Epoch 37\n",
      "Norm: 7436082346.42, NNZs: 11, Bias: -1897860823.396080, T: 39590, Avg. loss: 5931935842706983485440.000000\n",
      "Total training time: 0.01 seconds.\n",
      "-- Epoch 38\n",
      "Norm: 6923879168.80, NNZs: 11, Bias: -1645039228.955028, T: 40660, Avg. loss: 5177480467825647681536.000000\n",
      "Total training time: 0.01 seconds.\n",
      "-- Epoch 39\n",
      "Norm: 5697576650.76, NNZs: 11, Bias: -1354507299.448607, T: 41730, Avg. loss: 4600688613258808000512.000000\n",
      "Total training time: 0.01 seconds.\n",
      "-- Epoch 40\n",
      "Norm: 6543777527.32, NNZs: 11, Bias: -1227814321.603962, T: 42800, Avg. loss: 2467780802707360055296.000000\n",
      "Total training time: 0.01 seconds.\n",
      "-- Epoch 41\n",
      "Norm: 5084148671.72, NNZs: 11, Bias: -811883713.895893, T: 43870, Avg. loss: 2291200933637852495872.000000\n",
      "Total training time: 0.01 seconds.\n",
      "-- Epoch 42\n",
      "Norm: 8063050733.09, NNZs: 11, Bias: -816203222.617200, T: 44940, Avg. loss: 15436729903593063186432.000000\n",
      "Total training time: 0.01 seconds.\n",
      "-- Epoch 43\n",
      "Norm: 5450663963.52, NNZs: 11, Bias: -1419549545.469557, T: 46010, Avg. loss: 6749532477319770275840.000000\n",
      "Total training time: 0.01 seconds.\n",
      "-- Epoch 44\n",
      "Norm: 3751817728.22, NNZs: 11, Bias: -1406556270.188293, T: 47080, Avg. loss: 2852315769595598733312.000000\n",
      "Total training time: 0.01 seconds.\n",
      "-- Epoch 45\n",
      "Norm: 3327724994.15, NNZs: 11, Bias: -1249356020.528609, T: 48150, Avg. loss: 95625886775395336192.000000\n",
      "Total training time: 0.01 seconds.\n",
      "-- Epoch 46\n",
      "Norm: 3053377045.78, NNZs: 11, Bias: -1221513161.909707, T: 49220, Avg. loss: 148673737125044781056.000000\n",
      "Total training time: 0.01 seconds.\n",
      "-- Epoch 47\n",
      "Norm: 2470024985.68, NNZs: 11, Bias: -1151628102.849397, T: 50290, Avg. loss: 2577597197854255349760.000000\n",
      "Total training time: 0.01 seconds.\n",
      "-- Epoch 48\n",
      "Norm: 1814439952.26, NNZs: 11, Bias: -1087691235.477032, T: 51360, Avg. loss: 136809577396482310144.000000\n",
      "Total training time: 0.01 seconds.\n",
      "-- Epoch 49\n",
      "Norm: 944847258.07, NNZs: 11, Bias: -610342934.699140, T: 52430, Avg. loss: 1031117362136041259008.000000\n",
      "Total training time: 0.01 seconds.\n",
      "-- Epoch 50\n",
      "Norm: 840611034.20, NNZs: 11, Bias: -621858628.927532, T: 53500, Avg. loss: 13137439982558998528.000000\n",
      "Total training time: 0.02 seconds.\n",
      "-- Epoch 51\n",
      "Norm: 745012483.28, NNZs: 11, Bias: -597518859.095533, T: 54570, Avg. loss: 9645564449028524032.000000\n",
      "Total training time: 0.02 seconds.\n",
      "-- Epoch 52\n",
      "Norm: 700711528.91, NNZs: 11, Bias: -569719805.473681, T: 55640, Avg. loss: 1133670895416770048.000000\n",
      "Total training time: 0.02 seconds.\n",
      "-- Epoch 53\n",
      "Norm: 667074531.18, NNZs: 11, Bias: -550540370.973197, T: 56710, Avg. loss: 2517277076998474240.000000\n",
      "Total training time: 0.02 seconds.\n",
      "-- Epoch 54\n",
      "Norm: 643322897.40, NNZs: 11, Bias: -513457220.640532, T: 57780, Avg. loss: 11745370105548122112.000000\n",
      "Total training time: 0.02 seconds.\n",
      "-- Epoch 55\n",
      "Norm: 646560711.12, NNZs: 11, Bias: -506894424.776772, T: 58850, Avg. loss: 17950115902646102016.000000\n",
      "Total training time: 0.02 seconds.\n",
      "-- Epoch 56\n",
      "Norm: 628209417.09, NNZs: 11, Bias: -475734477.097409, T: 59920, Avg. loss: 24902698666836779008.000000\n",
      "Total training time: 0.02 seconds.\n",
      "-- Epoch 57\n",
      "Norm: 589312170.10, NNZs: 11, Bias: -460063918.792245, T: 60990, Avg. loss: 1010207171480540032.000000\n",
      "Total training time: 0.02 seconds.\n",
      "-- Epoch 58\n",
      "Norm: 544650774.65, NNZs: 11, Bias: -435390245.373222, T: 62060, Avg. loss: 2180157734931014912.000000\n",
      "Total training time: 0.02 seconds.\n",
      "-- Epoch 59\n",
      "Norm: 519589307.36, NNZs: 11, Bias: -424950048.408230, T: 63130, Avg. loss: 2105350652418787840.000000\n",
      "Total training time: 0.02 seconds.\n",
      "-- Epoch 60\n",
      "Norm: 488628512.24, NNZs: 11, Bias: -404997400.252670, T: 64200, Avg. loss: 498248209167332992.000000\n",
      "Total training time: 0.02 seconds.\n",
      "-- Epoch 61\n",
      "Norm: 466884589.40, NNZs: 11, Bias: -388366089.480865, T: 65270, Avg. loss: 322606503847734016.000000\n",
      "Total training time: 0.02 seconds.\n",
      "-- Epoch 62\n",
      "Norm: 449942695.54, NNZs: 11, Bias: -376023175.501247, T: 66340, Avg. loss: 307266166732100800.000000\n",
      "Total training time: 0.02 seconds.\n",
      "-- Epoch 63\n",
      "Norm: 427294249.65, NNZs: 11, Bias: -358189556.634366, T: 67410, Avg. loss: 558834701097752128.000000\n",
      "Total training time: 0.02 seconds.\n",
      "-- Epoch 64\n",
      "Norm: 421854958.03, NNZs: 11, Bias: -340218314.823487, T: 68480, Avg. loss: 4850788713750456320.000000\n",
      "Total training time: 0.02 seconds.\n",
      "-- Epoch 65\n",
      "Norm: 392601437.57, NNZs: 11, Bias: -319259518.059027, T: 69550, Avg. loss: 318751730742201024.000000\n",
      "Total training time: 0.02 seconds.\n",
      "-- Epoch 66\n",
      "Norm: 377071213.77, NNZs: 11, Bias: -309831162.829754, T: 70620, Avg. loss: 266625717297095680.000000\n",
      "Total training time: 0.02 seconds.\n",
      "-- Epoch 67\n",
      "Norm: 347436953.21, NNZs: 11, Bias: -292696492.318094, T: 71690, Avg. loss: 298230140093309184.000000\n",
      "Total training time: 0.02 seconds.\n",
      "-- Epoch 68\n",
      "Norm: 330093233.57, NNZs: 11, Bias: -277822310.598932, T: 72760, Avg. loss: 176993769594091008.000000\n",
      "Total training time: 0.02 seconds.\n",
      "-- Epoch 69\n",
      "Norm: 318960447.66, NNZs: 11, Bias: -267269427.283207, T: 73830, Avg. loss: 286455022456486432.000000\n",
      "Total training time: 0.02 seconds.\n",
      "-- Epoch 70\n",
      "Norm: 305029803.29, NNZs: 11, Bias: -254417095.791497, T: 74900, Avg. loss: 93544631184735536.000000\n",
      "Total training time: 0.02 seconds.\n",
      "-- Epoch 71\n",
      "Norm: 291829380.57, NNZs: 11, Bias: -242917167.197565, T: 75970, Avg. loss: 88711780805661312.000000\n",
      "Total training time: 0.02 seconds.\n",
      "-- Epoch 72\n",
      "Norm: 278006987.00, NNZs: 11, Bias: -230952548.217444, T: 77040, Avg. loss: 74672219560542480.000000\n",
      "Total training time: 0.02 seconds.\n",
      "-- Epoch 73\n",
      "Norm: 265617626.58, NNZs: 11, Bias: -219518979.603064, T: 78110, Avg. loss: 64254583170585888.000000\n",
      "Total training time: 0.02 seconds.\n",
      "-- Epoch 74\n",
      "Norm: 255992249.67, NNZs: 11, Bias: -209985355.161785, T: 79180, Avg. loss: 58732148400738944.000000\n",
      "Total training time: 0.02 seconds.\n",
      "-- Epoch 75\n",
      "Norm: 246019905.43, NNZs: 11, Bias: -202140155.265229, T: 80250, Avg. loss: 75955668617760752.000000\n",
      "Total training time: 0.02 seconds.\n",
      "-- Epoch 76\n",
      "Norm: 239629947.78, NNZs: 11, Bias: -195637834.403989, T: 81320, Avg. loss: 73001034709592800.000000\n",
      "Total training time: 0.02 seconds.\n",
      "-- Epoch 77\n",
      "Norm: 231344682.98, NNZs: 11, Bias: -189065787.576063, T: 82390, Avg. loss: 48701259620697016.000000\n",
      "Total training time: 0.02 seconds.\n",
      "-- Epoch 78\n",
      "Norm: 222918800.19, NNZs: 11, Bias: -181572422.517405, T: 83460, Avg. loss: 38888470957302592.000000\n",
      "Total training time: 0.02 seconds.\n",
      "-- Epoch 79\n",
      "Norm: 213967338.04, NNZs: 11, Bias: -173404691.985349, T: 84530, Avg. loss: 27526445990150684.000000\n",
      "Total training time: 0.02 seconds.\n",
      "-- Epoch 80\n",
      "Norm: 205864135.36, NNZs: 11, Bias: -166332266.192331, T: 85600, Avg. loss: 19042219958264528.000000\n",
      "Total training time: 0.02 seconds.\n",
      "-- Epoch 81\n",
      "Norm: 196683782.93, NNZs: 11, Bias: -158978240.365026, T: 86670, Avg. loss: 28295801405031196.000000\n",
      "Total training time: 0.02 seconds.\n",
      "-- Epoch 82\n",
      "Norm: 190028758.69, NNZs: 11, Bias: -152785231.201690, T: 87740, Avg. loss: 64294065008686920.000000\n",
      "Total training time: 0.02 seconds.\n",
      "-- Epoch 83\n",
      "Norm: 184961357.35, NNZs: 11, Bias: -148032736.017171, T: 88810, Avg. loss: 49630793936694160.000000\n",
      "Total training time: 0.02 seconds.\n",
      "-- Epoch 84\n",
      "Norm: 177261018.15, NNZs: 11, Bias: -142031848.052185, T: 89880, Avg. loss: 17416124379235116.000000\n",
      "Total training time: 0.03 seconds.\n",
      "-- Epoch 85\n",
      "Norm: 170105207.58, NNZs: 11, Bias: -135948320.549679, T: 90950, Avg. loss: 16962619600393312.000000\n",
      "Total training time: 0.03 seconds.\n",
      "-- Epoch 86\n",
      "Norm: 163595751.70, NNZs: 11, Bias: -129832105.769037, T: 92020, Avg. loss: 16853534502583550.000000\n",
      "Total training time: 0.03 seconds.\n",
      "-- Epoch 87\n",
      "Norm: 157953201.73, NNZs: 11, Bias: -124797012.769661, T: 93090, Avg. loss: 13976559982659958.000000\n",
      "Total training time: 0.03 seconds.\n",
      "-- Epoch 88\n",
      "Norm: 151051457.40, NNZs: 11, Bias: -119003560.893666, T: 94160, Avg. loss: 9180726401043248.000000\n",
      "Total training time: 0.03 seconds.\n",
      "-- Epoch 89\n",
      "Norm: 145203010.48, NNZs: 11, Bias: -113716500.782190, T: 95230, Avg. loss: 14258004094277246.000000\n",
      "Total training time: 0.03 seconds.\n",
      "-- Epoch 90\n",
      "Norm: 139424153.02, NNZs: 11, Bias: -108913773.909279, T: 96300, Avg. loss: 9753133144082698.000000\n",
      "Total training time: 0.03 seconds.\n",
      "-- Epoch 91\n",
      "Norm: 133884280.07, NNZs: 11, Bias: -103970892.028721, T: 97370, Avg. loss: 7345748207942065.000000\n",
      "Total training time: 0.03 seconds.\n",
      "-- Epoch 92\n",
      "Norm: 129985603.19, NNZs: 11, Bias: -100019330.244102, T: 98440, Avg. loss: 11317554752470694.000000\n",
      "Total training time: 0.03 seconds.\n",
      "-- Epoch 93\n",
      "Norm: 125064597.70, NNZs: 11, Bias: -95588874.725492, T: 99510, Avg. loss: 11115454961932916.000000\n",
      "Total training time: 0.03 seconds.\n",
      "-- Epoch 94\n",
      "Norm: 120503845.05, NNZs: 11, Bias: -91077214.257181, T: 100580, Avg. loss: 18674376696525972.000000\n",
      "Total training time: 0.03 seconds.\n",
      "-- Epoch 95\n",
      "Norm: 116817086.41, NNZs: 11, Bias: -87938467.400037, T: 101650, Avg. loss: 12551069618432898.000000\n",
      "Total training time: 0.03 seconds.\n",
      "-- Epoch 96\n",
      "Norm: 112866404.85, NNZs: 11, Bias: -84486810.076159, T: 102720, Avg. loss: 12761616291974084.000000\n",
      "Total training time: 0.03 seconds.\n",
      "-- Epoch 97\n",
      "Norm: 108066131.53, NNZs: 11, Bias: -80910740.790601, T: 103790, Avg. loss: 4237526515261181.500000\n",
      "Total training time: 0.03 seconds.\n",
      "-- Epoch 98\n",
      "Norm: 104163880.31, NNZs: 11, Bias: -77175928.829453, T: 104860, Avg. loss: 18868239661682792.000000\n",
      "Total training time: 0.03 seconds.\n",
      "-- Epoch 99\n",
      "Norm: 100338580.13, NNZs: 11, Bias: -73902599.242864, T: 105930, Avg. loss: 5820473093990616.000000\n",
      "Total training time: 0.03 seconds.\n",
      "-- Epoch 100\n",
      "Norm: 96911048.57, NNZs: 11, Bias: -71201866.734177, T: 107000, Avg. loss: 4022266203907897.000000\n",
      "Total training time: 0.03 seconds.\n",
      "-- Epoch 101\n",
      "Norm: 93297059.71, NNZs: 11, Bias: -68252392.201361, T: 108070, Avg. loss: 2905465851344603.000000\n",
      "Total training time: 0.03 seconds.\n",
      "-- Epoch 102\n",
      "Norm: 90276668.79, NNZs: 11, Bias: -65287782.473491, T: 109140, Avg. loss: 3191330020900899.500000\n",
      "Total training time: 0.03 seconds.\n",
      "-- Epoch 103\n",
      "Norm: 86630208.46, NNZs: 11, Bias: -62347417.295692, T: 110210, Avg. loss: 3892780761714365.500000\n",
      "Total training time: 0.03 seconds.\n",
      "-- Epoch 104\n",
      "Norm: 83580651.43, NNZs: 11, Bias: -59942274.141503, T: 111280, Avg. loss: 2450243158574145.500000\n",
      "Total training time: 0.03 seconds.\n",
      "-- Epoch 105\n",
      "Norm: 80878843.65, NNZs: 11, Bias: -57796385.759141, T: 112350, Avg. loss: 2266714842085001.500000\n",
      "Total training time: 0.03 seconds.\n",
      "-- Epoch 106\n",
      "Norm: 78185502.39, NNZs: 11, Bias: -55502852.974996, T: 113420, Avg. loss: 2254991552240653.000000\n",
      "Total training time: 0.03 seconds.\n",
      "-- Epoch 107\n",
      "Norm: 75617058.90, NNZs: 11, Bias: -53243705.395182, T: 114490, Avg. loss: 1686821105713420.000000\n",
      "Total training time: 0.03 seconds.\n",
      "-- Epoch 108\n",
      "Norm: 72899519.52, NNZs: 11, Bias: -50996385.334439, T: 115560, Avg. loss: 1653646379809260.000000\n",
      "Total training time: 0.03 seconds.\n",
      "-- Epoch 109\n",
      "Norm: 70600129.67, NNZs: 11, Bias: -48990174.428119, T: 116630, Avg. loss: 1442911792807259.750000\n",
      "Total training time: 0.03 seconds.\n",
      "-- Epoch 110\n",
      "Norm: 68539509.76, NNZs: 11, Bias: -47177137.469154, T: 117700, Avg. loss: 2174401124848300.750000\n",
      "Total training time: 0.03 seconds.\n",
      "-- Epoch 111\n",
      "Norm: 66397610.18, NNZs: 11, Bias: -45281391.674233, T: 118770, Avg. loss: 1214090617558645.000000\n",
      "Total training time: 0.03 seconds.\n",
      "-- Epoch 112\n",
      "Norm: 64039638.05, NNZs: 11, Bias: -43280271.757873, T: 119840, Avg. loss: 1496015219114797.750000\n",
      "Total training time: 0.03 seconds.\n",
      "-- Epoch 113\n",
      "Norm: 61974054.61, NNZs: 11, Bias: -41512780.990154, T: 120910, Avg. loss: 1017071691388684.250000\n",
      "Total training time: 0.03 seconds.\n",
      "-- Epoch 114\n",
      "Norm: 59783690.89, NNZs: 11, Bias: -39644738.932555, T: 121980, Avg. loss: 1141180007887077.000000\n",
      "Total training time: 0.03 seconds.\n",
      "-- Epoch 115\n",
      "Norm: 57622425.56, NNZs: 11, Bias: -37770223.269502, T: 123050, Avg. loss: 1048012096276389.250000\n",
      "Total training time: 0.03 seconds.\n",
      "-- Epoch 116\n",
      "Norm: 55720759.21, NNZs: 11, Bias: -36065064.328953, T: 124120, Avg. loss: 1071836652327884.750000\n",
      "Total training time: 0.03 seconds.\n",
      "-- Epoch 117\n",
      "Norm: 54070170.78, NNZs: 11, Bias: -34629152.289181, T: 125190, Avg. loss: 708687621588747.500000\n",
      "Total training time: 0.03 seconds.\n",
      "-- Epoch 118\n",
      "Norm: 52322471.37, NNZs: 11, Bias: -33014434.170233, T: 126260, Avg. loss: 808047734745807.875000\n",
      "Total training time: 0.03 seconds.\n",
      "-- Epoch 119\n",
      "Norm: 50689167.74, NNZs: 11, Bias: -31567854.721764, T: 127330, Avg. loss: 686349311104420.500000\n",
      "Total training time: 0.03 seconds.\n",
      "-- Epoch 120\n",
      "Norm: 49113606.40, NNZs: 11, Bias: -30218497.242680, T: 128400, Avg. loss: 703239447785283.250000\n",
      "Total training time: 0.03 seconds.\n",
      "-- Epoch 121\n",
      "Norm: 47585573.29, NNZs: 11, Bias: -28840432.019489, T: 129470, Avg. loss: 472715819352097.937500\n",
      "Total training time: 0.03 seconds.\n",
      "-- Epoch 122\n",
      "Norm: 46063291.02, NNZs: 11, Bias: -27491528.185483, T: 130540, Avg. loss: 577477673304117.250000\n",
      "Total training time: 0.03 seconds.\n",
      "-- Epoch 123\n",
      "Norm: 44768536.78, NNZs: 11, Bias: -26169949.815535, T: 131610, Avg. loss: 568690825104136.625000\n",
      "Total training time: 0.03 seconds.\n",
      "-- Epoch 124\n",
      "Norm: 43389937.04, NNZs: 11, Bias: -25106968.211191, T: 132680, Avg. loss: 435177256301976.437500\n",
      "Total training time: 0.03 seconds.\n",
      "-- Epoch 125\n",
      "Norm: 42041077.90, NNZs: 11, Bias: -23904340.582413, T: 133750, Avg. loss: 362108799453601.125000\n",
      "Total training time: 0.03 seconds.\n",
      "-- Epoch 126\n",
      "Norm: 40865931.61, NNZs: 11, Bias: -22896031.213670, T: 134820, Avg. loss: 545779794211792.125000\n",
      "Total training time: 0.03 seconds.\n",
      "-- Epoch 127\n",
      "Norm: 39538921.15, NNZs: 11, Bias: -21832668.919731, T: 135890, Avg. loss: 469084894296446.187500\n",
      "Total training time: 0.03 seconds.\n",
      "-- Epoch 128\n",
      "Norm: 38310141.34, NNZs: 11, Bias: -20862508.457233, T: 136960, Avg. loss: 302709347538055.187500\n",
      "Total training time: 0.03 seconds.\n",
      "-- Epoch 129\n",
      "Norm: 37143293.58, NNZs: 11, Bias: -19851846.039080, T: 138030, Avg. loss: 344670089554039.562500\n",
      "Total training time: 0.04 seconds.\n",
      "-- Epoch 130\n",
      "Norm: 35966457.53, NNZs: 11, Bias: -18782478.510541, T: 139100, Avg. loss: 307660700136537.937500\n",
      "Total training time: 0.04 seconds.\n",
      "-- Epoch 131\n",
      "Norm: 34862256.79, NNZs: 11, Bias: -17856836.517609, T: 140170, Avg. loss: 242630450242487.656250\n",
      "Total training time: 0.04 seconds.\n",
      "-- Epoch 132\n",
      "Norm: 33768114.56, NNZs: 11, Bias: -16959841.965196, T: 141240, Avg. loss: 269343109846036.781250\n",
      "Total training time: 0.04 seconds.\n",
      "-- Epoch 133\n",
      "Norm: 32844727.82, NNZs: 11, Bias: -16190337.688463, T: 142310, Avg. loss: 249105521527669.468750\n",
      "Total training time: 0.04 seconds.\n",
      "-- Epoch 134\n",
      "Norm: 31954647.80, NNZs: 11, Bias: -15387364.252040, T: 143380, Avg. loss: 166535737856069.625000\n",
      "Total training time: 0.04 seconds.\n",
      "-- Epoch 135\n",
      "Norm: 31143836.82, NNZs: 11, Bias: -14658043.946828, T: 144450, Avg. loss: 159442437884072.343750\n",
      "Total training time: 0.04 seconds.\n",
      "-- Epoch 136\n",
      "Norm: 30221578.27, NNZs: 11, Bias: -13883338.738508, T: 145520, Avg. loss: 230690351699607.250000\n",
      "Total training time: 0.04 seconds.\n",
      "-- Epoch 137\n",
      "Norm: 29337507.08, NNZs: 11, Bias: -13129509.316264, T: 146590, Avg. loss: 142907494410026.781250\n",
      "Total training time: 0.04 seconds.\n",
      "-- Epoch 138\n",
      "Norm: 28553559.81, NNZs: 11, Bias: -12435768.516744, T: 147660, Avg. loss: 208314510623348.937500\n",
      "Total training time: 0.04 seconds.\n",
      "-- Epoch 139\n",
      "Norm: 27706699.86, NNZs: 11, Bias: -11686004.020877, T: 148730, Avg. loss: 149137787212710.187500\n",
      "Total training time: 0.04 seconds.\n",
      "-- Epoch 140\n",
      "Norm: 26940548.02, NNZs: 11, Bias: -11052163.816050, T: 149800, Avg. loss: 113861764727930.875000\n",
      "Total training time: 0.04 seconds.\n",
      "-- Epoch 141\n",
      "Norm: 26209255.59, NNZs: 11, Bias: -10412357.810060, T: 150870, Avg. loss: 109320763981384.750000\n",
      "Total training time: 0.04 seconds.\n",
      "-- Epoch 142\n",
      "Norm: 25527809.98, NNZs: 11, Bias: -9819116.076253, T: 151940, Avg. loss: 116834298303222.343750\n",
      "Total training time: 0.04 seconds.\n",
      "-- Epoch 143\n",
      "Norm: 24874710.80, NNZs: 11, Bias: -9236084.955687, T: 153010, Avg. loss: 92334228916091.859375\n",
      "Total training time: 0.04 seconds.\n",
      "-- Epoch 144\n",
      "Norm: 24254269.84, NNZs: 11, Bias: -8698737.179599, T: 154080, Avg. loss: 88287540862868.703125\n",
      "Total training time: 0.04 seconds.\n",
      "-- Epoch 145\n",
      "Norm: 23622358.00, NNZs: 11, Bias: -8150695.601922, T: 155150, Avg. loss: 78521689047371.125000\n",
      "Total training time: 0.04 seconds.\n",
      "-- Epoch 146\n",
      "Norm: 23001533.73, NNZs: 11, Bias: -7615560.607795, T: 156220, Avg. loss: 80397892192463.890625\n",
      "Total training time: 0.04 seconds.\n",
      "-- Epoch 147\n",
      "Norm: 22415731.67, NNZs: 11, Bias: -7100330.368974, T: 157290, Avg. loss: 78700011020371.406250\n",
      "Total training time: 0.04 seconds.\n",
      "-- Epoch 148\n",
      "Norm: 21841996.03, NNZs: 11, Bias: -6595144.796723, T: 158360, Avg. loss: 63274576387100.820312\n",
      "Total training time: 0.04 seconds.\n",
      "-- Epoch 149\n",
      "Norm: 21249403.14, NNZs: 11, Bias: -6067992.331216, T: 159430, Avg. loss: 69501198366734.101562\n",
      "Total training time: 0.04 seconds.\n",
      "-- Epoch 150\n",
      "Norm: 20726139.04, NNZs: 11, Bias: -5610088.615341, T: 160500, Avg. loss: 55654486761409.960938\n",
      "Total training time: 0.04 seconds.\n",
      "-- Epoch 151\n",
      "Norm: 20202673.57, NNZs: 11, Bias: -5144763.244882, T: 161570, Avg. loss: 55804005540681.414062\n",
      "Total training time: 0.04 seconds.\n",
      "-- Epoch 152\n",
      "Norm: 19759890.28, NNZs: 11, Bias: -4765626.660743, T: 162640, Avg. loss: 50749751585040.257812\n",
      "Total training time: 0.04 seconds.\n",
      "-- Epoch 153\n",
      "Norm: 19314765.69, NNZs: 11, Bias: -4390046.813418, T: 163710, Avg. loss: 43628013503689.226562\n",
      "Total training time: 0.04 seconds.\n",
      "-- Epoch 154\n",
      "Norm: 18889744.35, NNZs: 11, Bias: -4016918.824441, T: 164780, Avg. loss: 36364336664602.773438\n",
      "Total training time: 0.04 seconds.\n",
      "-- Epoch 155\n",
      "Norm: 18475664.11, NNZs: 11, Bias: -3665229.387982, T: 165850, Avg. loss: 39792855612675.773438\n",
      "Total training time: 0.04 seconds.\n",
      "-- Epoch 156\n",
      "Norm: 18070089.86, NNZs: 11, Bias: -3307176.546563, T: 166920, Avg. loss: 36987366946047.742188\n",
      "Total training time: 0.04 seconds.\n",
      "-- Epoch 157\n",
      "Norm: 17675950.33, NNZs: 11, Bias: -2961206.606188, T: 167990, Avg. loss: 40828331997125.648438\n",
      "Total training time: 0.04 seconds.\n",
      "-- Epoch 158\n",
      "Norm: 17275100.18, NNZs: 11, Bias: -2606867.197205, T: 169060, Avg. loss: 31344076193899.519531\n",
      "Total training time: 0.04 seconds.\n",
      "-- Epoch 159\n",
      "Norm: 16905192.02, NNZs: 11, Bias: -2277339.552665, T: 170130, Avg. loss: 26603538312594.359375\n",
      "Total training time: 0.04 seconds.\n",
      "-- Epoch 160\n",
      "Norm: 16556348.91, NNZs: 11, Bias: -1975239.797862, T: 171200, Avg. loss: 28732448591993.867188\n",
      "Total training time: 0.04 seconds.\n",
      "-- Epoch 161\n",
      "Norm: 16201617.03, NNZs: 11, Bias: -1664712.903320, T: 172270, Avg. loss: 23255119627274.574219\n",
      "Total training time: 0.04 seconds.\n",
      "-- Epoch 162\n",
      "Norm: 15920232.87, NNZs: 11, Bias: -1411722.599571, T: 173340, Avg. loss: 20623014520835.175781\n",
      "Total training time: 0.04 seconds.\n",
      "-- Epoch 163\n",
      "Norm: 15613924.49, NNZs: 11, Bias: -1156527.567187, T: 174410, Avg. loss: 20257364098745.308594\n",
      "Total training time: 0.04 seconds.\n",
      "-- Epoch 164\n",
      "Norm: 15294097.85, NNZs: 11, Bias: -874294.378459, T: 175480, Avg. loss: 20682054870925.687500\n",
      "Total training time: 0.04 seconds.\n",
      "-- Epoch 165\n",
      "Norm: 15000323.51, NNZs: 11, Bias: -629421.120340, T: 176550, Avg. loss: 20134247117380.121094\n",
      "Total training time: 0.04 seconds.\n",
      "-- Epoch 166\n",
      "Norm: 14717760.46, NNZs: 11, Bias: -387837.013332, T: 177620, Avg. loss: 14867992132043.382812\n",
      "Total training time: 0.04 seconds.\n",
      "-- Epoch 167\n",
      "Norm: 14432998.08, NNZs: 11, Bias: -136524.554326, T: 178690, Avg. loss: 17060308909473.933594\n",
      "Total training time: 0.04 seconds.\n",
      "-- Epoch 168\n",
      "Norm: 14128292.89, NNZs: 11, Bias: 137917.580290, T: 179760, Avg. loss: 16328450229265.455078\n",
      "Total training time: 0.04 seconds.\n",
      "-- Epoch 169\n",
      "Norm: 13869896.42, NNZs: 11, Bias: 365722.974946, T: 180830, Avg. loss: 13583296636349.628906\n",
      "Total training time: 0.04 seconds.\n",
      "-- Epoch 170\n",
      "Norm: 13611661.00, NNZs: 11, Bias: 589608.589179, T: 181900, Avg. loss: 11632202752764.691406\n",
      "Total training time: 0.04 seconds.\n",
      "-- Epoch 171\n",
      "Norm: 13373677.12, NNZs: 11, Bias: 795327.820383, T: 182970, Avg. loss: 11550170272785.753906\n",
      "Total training time: 0.04 seconds.\n",
      "-- Epoch 172\n",
      "Norm: 13139529.88, NNZs: 11, Bias: 999545.028664, T: 184040, Avg. loss: 12756212059939.408203\n",
      "Total training time: 0.05 seconds.\n",
      "-- Epoch 173\n",
      "Norm: 12916250.34, NNZs: 11, Bias: 1193183.505567, T: 185110, Avg. loss: 10476455986408.619141\n",
      "Total training time: 0.05 seconds.\n",
      "-- Epoch 174\n",
      "Norm: 12693078.87, NNZs: 11, Bias: 1387406.165426, T: 186180, Avg. loss: 10231712268092.777344\n",
      "Total training time: 0.05 seconds.\n",
      "-- Epoch 175\n",
      "Norm: 12477798.31, NNZs: 11, Bias: 1574740.263203, T: 187250, Avg. loss: 9245495913507.845703\n",
      "Total training time: 0.05 seconds.\n",
      "-- Epoch 176\n",
      "Norm: 12265245.23, NNZs: 11, Bias: 1766256.083668, T: 188320, Avg. loss: 8885376863372.898438\n",
      "Total training time: 0.05 seconds.\n",
      "-- Epoch 177\n",
      "Norm: 12070046.28, NNZs: 11, Bias: 1940532.099090, T: 189390, Avg. loss: 6946958611457.336914\n",
      "Total training time: 0.05 seconds.\n",
      "-- Epoch 178\n",
      "Norm: 11887906.30, NNZs: 11, Bias: 2096117.331068, T: 190460, Avg. loss: 6591442678628.277344\n",
      "Total training time: 0.05 seconds.\n",
      "-- Epoch 179\n",
      "Norm: 11720408.64, NNZs: 11, Bias: 2240337.165834, T: 191530, Avg. loss: 7125249298580.697266\n",
      "Total training time: 0.05 seconds.\n",
      "-- Epoch 180\n",
      "Norm: 11549340.55, NNZs: 11, Bias: 2393830.800069, T: 192600, Avg. loss: 7086047174101.812500\n",
      "Total training time: 0.05 seconds.\n",
      "-- Epoch 181\n",
      "Norm: 11391596.04, NNZs: 11, Bias: 2536823.781569, T: 193670, Avg. loss: 5582317621195.510742\n",
      "Total training time: 0.05 seconds.\n",
      "-- Epoch 182\n",
      "Norm: 11234454.50, NNZs: 11, Bias: 2669599.887210, T: 194740, Avg. loss: 5315422013622.420898\n",
      "Total training time: 0.05 seconds.\n",
      "-- Epoch 183\n",
      "Norm: 11082205.37, NNZs: 11, Bias: 2802422.041845, T: 195810, Avg. loss: 4614987634088.132812\n",
      "Total training time: 0.05 seconds.\n",
      "-- Epoch 184\n",
      "Norm: 10919524.20, NNZs: 11, Bias: 2946856.915018, T: 196880, Avg. loss: 5663490727528.211914\n",
      "Total training time: 0.05 seconds.\n",
      "-- Epoch 185\n",
      "Norm: 10760763.71, NNZs: 11, Bias: 3085123.929006, T: 197950, Avg. loss: 4900386192031.333984\n",
      "Total training time: 0.05 seconds.\n",
      "-- Epoch 186\n",
      "Norm: 10614583.50, NNZs: 11, Bias: 3215542.201406, T: 199020, Avg. loss: 3962519748129.347168\n",
      "Total training time: 0.05 seconds.\n",
      "-- Epoch 187\n",
      "Norm: 10468366.44, NNZs: 11, Bias: 3342456.740636, T: 200090, Avg. loss: 3793036357947.711426\n",
      "Total training time: 0.05 seconds.\n",
      "-- Epoch 188\n",
      "Norm: 10328215.89, NNZs: 11, Bias: 3465504.816147, T: 201160, Avg. loss: 3427184410341.453125\n",
      "Total training time: 0.05 seconds.\n",
      "-- Epoch 189\n",
      "Norm: 10194276.69, NNZs: 11, Bias: 3584050.395465, T: 202230, Avg. loss: 3479368858663.794922\n",
      "Total training time: 0.05 seconds.\n",
      "-- Epoch 190\n",
      "Norm: 10061556.36, NNZs: 11, Bias: 3702210.458936, T: 203300, Avg. loss: 3435755972727.161621\n",
      "Total training time: 0.05 seconds.\n",
      "-- Epoch 191\n",
      "Norm: 9938224.66, NNZs: 11, Bias: 3809062.858299, T: 204370, Avg. loss: 2643595120988.951172\n",
      "Total training time: 0.05 seconds.\n",
      "-- Epoch 192\n",
      "Norm: 9817836.51, NNZs: 11, Bias: 3916023.875512, T: 205440, Avg. loss: 2674722828225.613770\n",
      "Total training time: 0.05 seconds.\n",
      "-- Epoch 193\n",
      "Norm: 9703136.54, NNZs: 11, Bias: 4014979.504322, T: 206510, Avg. loss: 2675979732500.075195\n",
      "Total training time: 0.05 seconds.\n",
      "-- Epoch 194\n",
      "Norm: 9583780.93, NNZs: 11, Bias: 4120669.458511, T: 207580, Avg. loss: 2444501968993.348145\n",
      "Total training time: 0.05 seconds.\n",
      "-- Epoch 195\n",
      "Norm: 9488585.55, NNZs: 11, Bias: 4206036.572256, T: 208650, Avg. loss: 1938436143583.214355\n",
      "Total training time: 0.05 seconds.\n",
      "-- Epoch 196\n",
      "Norm: 9398849.66, NNZs: 11, Bias: 4284239.581836, T: 209720, Avg. loss: 1834374593014.190430\n",
      "Total training time: 0.05 seconds.\n",
      "-- Epoch 197\n",
      "Norm: 9298164.56, NNZs: 11, Bias: 4372283.034486, T: 210790, Avg. loss: 2194304755451.915527\n",
      "Total training time: 0.05 seconds.\n",
      "-- Epoch 198\n",
      "Norm: 9200932.63, NNZs: 11, Bias: 4456627.326546, T: 211860, Avg. loss: 1965648208968.277588\n",
      "Total training time: 0.05 seconds.\n",
      "-- Epoch 199\n",
      "Norm: 9114343.96, NNZs: 11, Bias: 4532235.135628, T: 212930, Avg. loss: 1626454199801.502930\n",
      "Total training time: 0.05 seconds.\n",
      "-- Epoch 200\n",
      "Norm: 9019726.95, NNZs: 11, Bias: 4615624.753933, T: 214000, Avg. loss: 1573736441800.779297\n",
      "Total training time: 0.05 seconds.\n",
      "-- Epoch 201\n",
      "Norm: 8935075.23, NNZs: 11, Bias: 4689631.013311, T: 215070, Avg. loss: 1397861149623.966797\n",
      "Total training time: 0.05 seconds.\n",
      "-- Epoch 202\n",
      "Norm: 8851553.76, NNZs: 11, Bias: 4763195.631335, T: 216140, Avg. loss: 1311355711485.833496\n",
      "Total training time: 0.05 seconds.\n",
      "-- Epoch 203\n",
      "Norm: 8771489.43, NNZs: 11, Bias: 4833402.012080, T: 217210, Avg. loss: 1303978739834.822510\n",
      "Total training time: 0.05 seconds.\n",
      "-- Epoch 204\n",
      "Norm: 8691371.92, NNZs: 11, Bias: 4904093.419413, T: 218280, Avg. loss: 1194157935207.796387\n",
      "Total training time: 0.05 seconds.\n",
      "-- Epoch 205\n",
      "Norm: 8616236.08, NNZs: 11, Bias: 4968334.176282, T: 219350, Avg. loss: 1127572687279.492432\n",
      "Total training time: 0.05 seconds.\n",
      "-- Epoch 206\n",
      "Norm: 8539766.34, NNZs: 11, Bias: 5037100.209261, T: 220420, Avg. loss: 1130563790750.411133\n",
      "Total training time: 0.06 seconds.\n",
      "-- Epoch 207\n",
      "Norm: 8466039.00, NNZs: 11, Bias: 5102264.252441, T: 221490, Avg. loss: 1062277451862.531250\n",
      "Total training time: 0.06 seconds.\n",
      "-- Epoch 208\n",
      "Norm: 8396303.06, NNZs: 11, Bias: 5163193.402996, T: 222560, Avg. loss: 941563478375.525879\n",
      "Total training time: 0.06 seconds.\n",
      "-- Epoch 209\n",
      "Norm: 8327550.70, NNZs: 11, Bias: 5223904.362831, T: 223630, Avg. loss: 883742953458.697021\n",
      "Total training time: 0.06 seconds.\n",
      "-- Epoch 210\n",
      "Norm: 8260443.82, NNZs: 11, Bias: 5282694.058236, T: 224700, Avg. loss: 806397752299.354248\n",
      "Total training time: 0.06 seconds.\n",
      "-- Epoch 211\n",
      "Norm: 8197990.35, NNZs: 11, Bias: 5337892.957128, T: 225770, Avg. loss: 767710177121.082886\n",
      "Total training time: 0.06 seconds.\n",
      "-- Epoch 212\n",
      "Norm: 8134072.18, NNZs: 11, Bias: 5393749.960037, T: 226840, Avg. loss: 801698028797.056763\n",
      "Total training time: 0.06 seconds.\n",
      "-- Epoch 213\n",
      "Norm: 8076120.45, NNZs: 11, Bias: 5444576.027143, T: 227910, Avg. loss: 669808708643.704956\n",
      "Total training time: 0.06 seconds.\n",
      "-- Epoch 214\n",
      "Norm: 8018310.06, NNZs: 11, Bias: 5495073.592469, T: 228980, Avg. loss: 694922646167.806885\n",
      "Total training time: 0.06 seconds.\n",
      "-- Epoch 215\n",
      "Norm: 7963964.80, NNZs: 11, Bias: 5543459.811416, T: 230050, Avg. loss: 541485140002.037354\n",
      "Total training time: 0.06 seconds.\n",
      "-- Epoch 216\n",
      "Norm: 7912503.39, NNZs: 11, Bias: 5588915.188318, T: 231120, Avg. loss: 543718069240.475464\n",
      "Total training time: 0.06 seconds.\n",
      "-- Epoch 217\n",
      "Norm: 7862123.31, NNZs: 11, Bias: 5632497.190520, T: 232190, Avg. loss: 493743413989.715820\n",
      "Total training time: 0.06 seconds.\n",
      "-- Epoch 218\n",
      "Norm: 7815238.16, NNZs: 11, Bias: 5673734.690926, T: 233260, Avg. loss: 456158971537.554077\n",
      "Total training time: 0.06 seconds.\n",
      "-- Epoch 219\n",
      "Norm: 7768089.61, NNZs: 11, Bias: 5715203.648591, T: 234330, Avg. loss: 425875126365.518066\n",
      "Total training time: 0.06 seconds.\n",
      "-- Epoch 220\n",
      "Norm: 7725267.27, NNZs: 11, Bias: 5752902.863907, T: 235400, Avg. loss: 373150225766.944153\n",
      "Total training time: 0.06 seconds.\n",
      "-- Epoch 221\n",
      "Norm: 7679483.55, NNZs: 11, Bias: 5793402.924487, T: 236470, Avg. loss: 462809184436.742004\n",
      "Total training time: 0.06 seconds.\n",
      "-- Epoch 222\n",
      "Norm: 7638423.50, NNZs: 11, Bias: 5829602.120071, T: 237540, Avg. loss: 341493906622.796143\n",
      "Total training time: 0.06 seconds.\n",
      "-- Epoch 223\n",
      "Norm: 7595072.78, NNZs: 11, Bias: 5868037.016208, T: 238610, Avg. loss: 374964957278.583984\n",
      "Total training time: 0.06 seconds.\n",
      "-- Epoch 224\n",
      "Norm: 7555964.62, NNZs: 11, Bias: 5902453.932722, T: 239680, Avg. loss: 297506590126.591125\n",
      "Total training time: 0.06 seconds.\n",
      "-- Epoch 225\n",
      "Norm: 7515322.25, NNZs: 11, Bias: 5938077.756561, T: 240750, Avg. loss: 315930463024.466248\n",
      "Total training time: 0.06 seconds.\n",
      "-- Epoch 226\n",
      "Norm: 7477456.63, NNZs: 11, Bias: 5971418.171736, T: 241820, Avg. loss: 290260056752.842041\n",
      "Total training time: 0.06 seconds.\n",
      "-- Epoch 227\n",
      "Norm: 7438464.80, NNZs: 11, Bias: 6005716.945828, T: 242890, Avg. loss: 300085522030.524475\n",
      "Total training time: 0.06 seconds.\n",
      "-- Epoch 228\n",
      "Norm: 7403540.47, NNZs: 11, Bias: 6036299.069230, T: 243960, Avg. loss: 256066890156.858612\n",
      "Total training time: 0.06 seconds.\n",
      "-- Epoch 229\n",
      "Norm: 7368692.02, NNZs: 11, Bias: 6066934.343364, T: 245030, Avg. loss: 231486319061.326965\n",
      "Total training time: 0.06 seconds.\n",
      "-- Epoch 230\n",
      "Norm: 7334393.50, NNZs: 11, Bias: 6097223.936525, T: 246100, Avg. loss: 206741905474.766449\n",
      "Total training time: 0.06 seconds.\n",
      "-- Epoch 231\n",
      "Norm: 7304130.20, NNZs: 11, Bias: 6123603.181038, T: 247170, Avg. loss: 202187181236.448303\n",
      "Total training time: 0.06 seconds.\n",
      "-- Epoch 232\n",
      "Norm: 7273343.95, NNZs: 11, Bias: 6150586.146577, T: 248240, Avg. loss: 206412957647.892670\n",
      "Total training time: 0.06 seconds.\n",
      "-- Epoch 233\n",
      "Norm: 7242401.04, NNZs: 11, Bias: 6177774.411515, T: 249310, Avg. loss: 173462822432.715118\n",
      "Total training time: 0.06 seconds.\n",
      "-- Epoch 234\n",
      "Norm: 7213190.98, NNZs: 11, Bias: 6203504.336459, T: 250380, Avg. loss: 158168495701.237213\n",
      "Total training time: 0.06 seconds.\n",
      "-- Epoch 235\n",
      "Norm: 7185161.22, NNZs: 11, Bias: 6228288.459254, T: 251450, Avg. loss: 152322485000.070435\n",
      "Total training time: 0.06 seconds.\n",
      "-- Epoch 236\n",
      "Norm: 7156137.45, NNZs: 11, Bias: 6253823.948420, T: 252520, Avg. loss: 149912282561.268494\n",
      "Total training time: 0.06 seconds.\n",
      "-- Epoch 237\n",
      "Norm: 7126934.92, NNZs: 11, Bias: 6279467.014005, T: 253590, Avg. loss: 149453585984.049927\n",
      "Total training time: 0.06 seconds.\n",
      "-- Epoch 238\n",
      "Norm: 7100732.22, NNZs: 11, Bias: 6302336.112901, T: 254660, Avg. loss: 133856572538.583237\n",
      "Total training time: 0.06 seconds.\n",
      "-- Epoch 239\n",
      "Norm: 7075708.85, NNZs: 11, Bias: 6324526.483646, T: 255730, Avg. loss: 109045194177.870316\n",
      "Total training time: 0.07 seconds.\n",
      "-- Epoch 240\n",
      "Norm: 7051701.43, NNZs: 11, Bias: 6345481.695784, T: 256800, Avg. loss: 111613495794.468933\n",
      "Total training time: 0.07 seconds.\n",
      "-- Epoch 241\n",
      "Norm: 7029444.73, NNZs: 11, Bias: 6364882.293897, T: 257870, Avg. loss: 102402168348.286011\n",
      "Total training time: 0.07 seconds.\n",
      "-- Epoch 242\n",
      "Norm: 7005646.39, NNZs: 11, Bias: 6385765.440421, T: 258940, Avg. loss: 100728761414.216537\n",
      "Total training time: 0.07 seconds.\n",
      "-- Epoch 243\n",
      "Norm: 6983398.84, NNZs: 11, Bias: 6405295.532128, T: 260010, Avg. loss: 92162567321.135788\n",
      "Total training time: 0.07 seconds.\n",
      "-- Epoch 244\n",
      "Norm: 6964614.51, NNZs: 11, Bias: 6421681.722450, T: 261080, Avg. loss: 84720557546.840637\n",
      "Total training time: 0.07 seconds.\n",
      "-- Epoch 245\n",
      "Norm: 6942855.58, NNZs: 11, Bias: 6440849.510080, T: 262150, Avg. loss: 87773419408.493332\n",
      "Total training time: 0.07 seconds.\n",
      "-- Epoch 246\n",
      "Norm: 6923306.40, NNZs: 11, Bias: 6458006.149053, T: 263220, Avg. loss: 76069034670.446472\n",
      "Total training time: 0.07 seconds.\n",
      "-- Epoch 247\n",
      "Norm: 6905892.23, NNZs: 11, Bias: 6473163.427485, T: 264290, Avg. loss: 64889170366.052574\n",
      "Total training time: 0.07 seconds.\n",
      "-- Epoch 248\n",
      "Norm: 6887732.06, NNZs: 11, Bias: 6489048.665075, T: 265360, Avg. loss: 64260093409.595200\n",
      "Total training time: 0.07 seconds.\n",
      "-- Epoch 249\n",
      "Norm: 6869249.10, NNZs: 11, Bias: 6505184.100203, T: 266430, Avg. loss: 68050774438.095398\n",
      "Total training time: 0.07 seconds.\n",
      "-- Epoch 250\n",
      "Norm: 6851023.84, NNZs: 11, Bias: 6521231.569195, T: 267500, Avg. loss: 63414435285.181419\n",
      "Total training time: 0.07 seconds.\n",
      "-- Epoch 251\n",
      "Norm: 6834074.02, NNZs: 11, Bias: 6536069.466107, T: 268570, Avg. loss: 56086412078.550217\n",
      "Total training time: 0.07 seconds.\n",
      "-- Epoch 252\n",
      "Norm: 6817056.79, NNZs: 11, Bias: 6550940.832749, T: 269640, Avg. loss: 49769626252.811417\n",
      "Total training time: 0.07 seconds.\n",
      "-- Epoch 253\n",
      "Norm: 6801654.14, NNZs: 11, Bias: 6564379.943281, T: 270710, Avg. loss: 48146826843.843849\n",
      "Total training time: 0.07 seconds.\n",
      "-- Epoch 254\n",
      "Norm: 6786837.61, NNZs: 11, Bias: 6577289.087952, T: 271780, Avg. loss: 42012601235.715889\n",
      "Total training time: 0.07 seconds.\n",
      "-- Epoch 255\n",
      "Norm: 6771317.01, NNZs: 11, Bias: 6590869.969365, T: 272850, Avg. loss: 43297559352.623528\n",
      "Total training time: 0.07 seconds.\n",
      "-- Epoch 256\n",
      "Norm: 6755989.04, NNZs: 11, Bias: 6604262.254302, T: 273920, Avg. loss: 39390379451.279419\n",
      "Total training time: 0.07 seconds.\n",
      "-- Epoch 257\n",
      "Norm: 6740936.65, NNZs: 11, Bias: 6617420.291364, T: 274990, Avg. loss: 39829244233.797188\n",
      "Total training time: 0.07 seconds.\n",
      "-- Epoch 258\n",
      "Norm: 6727087.68, NNZs: 11, Bias: 6629507.120271, T: 276060, Avg. loss: 35733341526.402626\n",
      "Total training time: 0.07 seconds.\n",
      "-- Epoch 259\n",
      "Norm: 6713435.99, NNZs: 11, Bias: 6641406.316322, T: 277130, Avg. loss: 32702749086.951351\n",
      "Total training time: 0.07 seconds.\n",
      "-- Epoch 260\n",
      "Norm: 6700059.88, NNZs: 11, Bias: 6653060.708469, T: 278200, Avg. loss: 34428158200.636604\n",
      "Total training time: 0.07 seconds.\n",
      "-- Epoch 261\n",
      "Norm: 6687847.85, NNZs: 11, Bias: 6663670.404767, T: 279270, Avg. loss: 27616520224.044807\n",
      "Total training time: 0.07 seconds.\n",
      "-- Epoch 262\n",
      "Norm: 6674758.86, NNZs: 11, Bias: 6675027.162802, T: 280340, Avg. loss: 29978979706.826614\n",
      "Total training time: 0.07 seconds.\n",
      "-- Epoch 263\n",
      "Norm: 6661988.43, NNZs: 11, Bias: 6686143.348273, T: 281410, Avg. loss: 26938234509.245968\n",
      "Total training time: 0.07 seconds.\n",
      "-- Epoch 264\n",
      "Norm: 6650063.22, NNZs: 11, Bias: 6696499.882432, T: 282480, Avg. loss: 25205842063.688835\n",
      "Total training time: 0.07 seconds.\n",
      "-- Epoch 265\n",
      "Norm: 6639321.92, NNZs: 11, Bias: 6705791.013377, T: 283550, Avg. loss: 22491031421.600079\n",
      "Total training time: 0.07 seconds.\n",
      "-- Epoch 266\n",
      "Norm: 6628540.89, NNZs: 11, Bias: 6715142.558765, T: 284620, Avg. loss: 20757425148.402885\n",
      "Total training time: 0.07 seconds.\n",
      "-- Epoch 267\n",
      "Norm: 6618007.02, NNZs: 11, Bias: 6724258.728853, T: 285690, Avg. loss: 21285105906.582523\n",
      "Total training time: 0.07 seconds.\n",
      "-- Epoch 268\n",
      "Norm: 6607910.04, NNZs: 11, Bias: 6733004.310181, T: 286760, Avg. loss: 18488313546.157814\n",
      "Total training time: 0.07 seconds.\n",
      "-- Epoch 269\n",
      "Norm: 6598487.13, NNZs: 11, Bias: 6741118.095126, T: 287830, Avg. loss: 17346415550.434132\n",
      "Total training time: 0.07 seconds.\n",
      "-- Epoch 270\n",
      "Norm: 6588399.01, NNZs: 11, Bias: 6749847.480918, T: 288900, Avg. loss: 18252019517.537338\n",
      "Total training time: 0.07 seconds.\n",
      "-- Epoch 271\n",
      "Norm: 6579091.47, NNZs: 11, Bias: 6757905.927902, T: 289970, Avg. loss: 15264916888.384302\n",
      "Total training time: 0.07 seconds.\n",
      "-- Epoch 272\n",
      "Norm: 6570067.50, NNZs: 11, Bias: 6765671.027041, T: 291040, Avg. loss: 15060142271.240654\n",
      "Total training time: 0.07 seconds.\n",
      "-- Epoch 273\n",
      "Norm: 6560883.29, NNZs: 11, Bias: 6773600.275272, T: 292110, Avg. loss: 14002437403.286762\n",
      "Total training time: 0.07 seconds.\n",
      "-- Epoch 274\n",
      "Norm: 6552114.52, NNZs: 11, Bias: 6781157.778690, T: 293180, Avg. loss: 13245277607.582256\n",
      "Total training time: 0.07 seconds.\n",
      "-- Epoch 275\n",
      "Norm: 6543792.96, NNZs: 11, Bias: 6788313.063000, T: 294250, Avg. loss: 12503234410.402596\n",
      "Total training time: 0.07 seconds.\n",
      "-- Epoch 276\n",
      "Norm: 6535622.05, NNZs: 11, Bias: 6795326.416854, T: 295320, Avg. loss: 12002906839.966454\n",
      "Total training time: 0.07 seconds.\n",
      "-- Epoch 277\n",
      "Norm: 6527922.83, NNZs: 11, Bias: 6801939.059332, T: 296390, Avg. loss: 10837050085.426107\n",
      "Total training time: 0.08 seconds.\n",
      "-- Epoch 278\n",
      "Norm: 6520055.49, NNZs: 11, Bias: 6808704.766753, T: 297460, Avg. loss: 10064806106.910753\n",
      "Total training time: 0.08 seconds.\n",
      "-- Epoch 279\n",
      "Norm: 6512558.80, NNZs: 11, Bias: 6815138.541845, T: 298530, Avg. loss: 10346638073.170368\n",
      "Total training time: 0.08 seconds.\n",
      "-- Epoch 280\n",
      "Norm: 6505934.57, NNZs: 11, Bias: 6820780.263774, T: 299600, Avg. loss: 8923278958.924765\n",
      "Total training time: 0.08 seconds.\n",
      "-- Epoch 281\n",
      "Norm: 6499027.77, NNZs: 11, Bias: 6826682.554473, T: 300670, Avg. loss: 8393662751.416908\n",
      "Total training time: 0.08 seconds.\n",
      "-- Epoch 282\n",
      "Norm: 6492731.10, NNZs: 11, Bias: 6832037.827764, T: 301740, Avg. loss: 7398413851.982457\n",
      "Total training time: 0.08 seconds.\n",
      "-- Epoch 283\n",
      "Norm: 6485864.62, NNZs: 11, Bias: 6837905.317356, T: 302810, Avg. loss: 8247949754.325259\n",
      "Total training time: 0.08 seconds.\n",
      "-- Epoch 284\n",
      "Norm: 6479817.75, NNZs: 11, Bias: 6843042.999691, T: 303880, Avg. loss: 6762941434.859073\n",
      "Total training time: 0.08 seconds.\n",
      "-- Epoch 285\n",
      "Norm: 6473447.09, NNZs: 11, Bias: 6848463.755847, T: 304950, Avg. loss: 7091914042.025315\n",
      "Total training time: 0.08 seconds.\n",
      "-- Epoch 286\n",
      "Norm: 6467524.01, NNZs: 11, Bias: 6853491.163705, T: 306020, Avg. loss: 6016134180.153510\n",
      "Total training time: 0.08 seconds.\n",
      "-- Epoch 287\n",
      "Norm: 6461555.67, NNZs: 11, Bias: 6858561.906723, T: 307090, Avg. loss: 6295719913.419943\n",
      "Total training time: 0.08 seconds.\n",
      "-- Epoch 288\n",
      "Norm: 6455929.53, NNZs: 11, Bias: 6863327.237461, T: 308160, Avg. loss: 5197614242.681314\n",
      "Total training time: 0.08 seconds.\n",
      "-- Epoch 289\n",
      "Norm: 6450849.47, NNZs: 11, Bias: 6867609.163323, T: 309230, Avg. loss: 4772234411.347377\n",
      "Total training time: 0.08 seconds.\n",
      "-- Epoch 290\n",
      "Norm: 6445855.69, NNZs: 11, Bias: 6871806.998392, T: 310300, Avg. loss: 4652892067.671652\n",
      "Total training time: 0.08 seconds.\n",
      "-- Epoch 291\n",
      "Norm: 6440961.51, NNZs: 11, Bias: 6875922.115745, T: 311370, Avg. loss: 4266526751.715386\n",
      "Total training time: 0.08 seconds.\n",
      "-- Epoch 292\n",
      "Norm: 6436090.48, NNZs: 11, Bias: 6880013.832341, T: 312440, Avg. loss: 3989077247.678994\n",
      "Total training time: 0.08 seconds.\n",
      "-- Epoch 293\n",
      "Norm: 6431238.90, NNZs: 11, Bias: 6884081.851049, T: 313510, Avg. loss: 3915426831.223216\n",
      "Total training time: 0.08 seconds.\n",
      "-- Epoch 294\n",
      "Norm: 6426448.69, NNZs: 11, Bias: 6888108.217919, T: 314580, Avg. loss: 3518289992.440822\n",
      "Total training time: 0.08 seconds.\n",
      "-- Epoch 295\n",
      "Norm: 6422261.20, NNZs: 11, Bias: 6891585.978122, T: 315650, Avg. loss: 3132965881.983215\n",
      "Total training time: 0.08 seconds.\n",
      "-- Epoch 296\n",
      "Norm: 6417979.86, NNZs: 11, Bias: 6895148.692010, T: 316720, Avg. loss: 3231387921.571184\n",
      "Total training time: 0.08 seconds.\n",
      "-- Epoch 297\n",
      "Norm: 6413524.03, NNZs: 11, Bias: 6898871.749229, T: 317790, Avg. loss: 3151125567.698093\n",
      "Total training time: 0.08 seconds.\n",
      "-- Epoch 298\n",
      "Norm: 6409247.78, NNZs: 11, Bias: 6902433.698127, T: 318860, Avg. loss: 2895136298.705911\n",
      "Total training time: 0.08 seconds.\n",
      "-- Epoch 299\n",
      "Norm: 6405189.33, NNZs: 11, Bias: 6905802.537910, T: 319930, Avg. loss: 2990317662.276028\n",
      "Total training time: 0.08 seconds.\n",
      "-- Epoch 300\n",
      "Norm: 6401096.14, NNZs: 11, Bias: 6909202.224810, T: 321000, Avg. loss: 2747559006.631153\n",
      "Total training time: 0.08 seconds.\n",
      "-- Epoch 301\n",
      "Norm: 6397135.41, NNZs: 11, Bias: 6912487.548158, T: 322070, Avg. loss: 2568418268.794341\n",
      "Total training time: 0.08 seconds.\n",
      "-- Epoch 302\n",
      "Norm: 6393603.92, NNZs: 11, Bias: 6915388.827613, T: 323140, Avg. loss: 2186053538.040128\n",
      "Total training time: 0.08 seconds.\n",
      "-- Epoch 303\n",
      "Norm: 6389998.86, NNZs: 11, Bias: 6918355.400949, T: 324210, Avg. loss: 2117596823.541645\n",
      "Total training time: 0.08 seconds.\n",
      "-- Epoch 304\n",
      "Norm: 6386452.29, NNZs: 11, Bias: 6921271.771010, T: 325280, Avg. loss: 1982423532.467874\n",
      "Total training time: 0.08 seconds.\n",
      "-- Epoch 305\n",
      "Norm: 6383275.08, NNZs: 11, Bias: 6923851.126640, T: 326350, Avg. loss: 1915329716.276309\n",
      "Total training time: 0.08 seconds.\n",
      "-- Epoch 306\n",
      "Norm: 6379857.08, NNZs: 11, Bias: 6926648.951006, T: 327420, Avg. loss: 1885594572.163265\n",
      "Total training time: 0.08 seconds.\n",
      "-- Epoch 307\n",
      "Norm: 6376542.08, NNZs: 11, Bias: 6929358.608015, T: 328490, Avg. loss: 1726679110.073148\n",
      "Total training time: 0.08 seconds.\n",
      "-- Epoch 308\n",
      "Norm: 6373589.54, NNZs: 11, Bias: 6931743.755082, T: 329560, Avg. loss: 1464899497.984413\n",
      "Total training time: 0.08 seconds.\n",
      "-- Epoch 309\n",
      "Norm: 6370399.63, NNZs: 11, Bias: 6934342.765550, T: 330630, Avg. loss: 1667646793.788749\n",
      "Total training time: 0.08 seconds.\n",
      "-- Epoch 310\n",
      "Norm: 6367339.28, NNZs: 11, Bias: 6936825.078572, T: 331700, Avg. loss: 1382015444.898249\n",
      "Total training time: 0.08 seconds.\n",
      "-- Epoch 311\n",
      "Norm: 6364493.06, NNZs: 11, Bias: 6939116.054685, T: 332770, Avg. loss: 1265902469.149020\n",
      "Total training time: 0.08 seconds.\n",
      "-- Epoch 312\n",
      "Norm: 6361461.58, NNZs: 11, Bias: 6941571.996927, T: 333840, Avg. loss: 1374768729.020907\n",
      "Total training time: 0.08 seconds.\n",
      "-- Epoch 313\n",
      "Norm: 6358976.80, NNZs: 11, Bias: 6943539.760838, T: 334910, Avg. loss: 1095452390.267452\n",
      "Total training time: 0.08 seconds.\n",
      "-- Epoch 314\n",
      "Norm: 6356146.07, NNZs: 11, Bias: 6945818.424682, T: 335980, Avg. loss: 1162462207.397511\n",
      "Total training time: 0.08 seconds.\n",
      "-- Epoch 315\n",
      "Norm: 6353607.17, NNZs: 11, Bias: 6947838.460027, T: 337050, Avg. loss: 1005934032.054350\n",
      "Total training time: 0.08 seconds.\n",
      "-- Epoch 316\n",
      "Norm: 6351097.79, NNZs: 11, Bias: 6949828.354130, T: 338120, Avg. loss: 1018712400.472195\n",
      "Total training time: 0.08 seconds.\n",
      "-- Epoch 317\n",
      "Norm: 6348863.49, NNZs: 11, Bias: 6951572.774141, T: 339190, Avg. loss: 939104329.290320\n",
      "Total training time: 0.08 seconds.\n",
      "-- Epoch 318\n",
      "Norm: 6346534.63, NNZs: 11, Bias: 6953402.623165, T: 340260, Avg. loss: 856588511.144479\n",
      "Total training time: 0.08 seconds.\n",
      "-- Epoch 319\n",
      "Norm: 6344151.35, NNZs: 11, Bias: 6955281.584688, T: 341330, Avg. loss: 822861136.323289\n",
      "Total training time: 0.08 seconds.\n",
      "-- Epoch 320\n",
      "Norm: 6341888.42, NNZs: 11, Bias: 6957054.182863, T: 342400, Avg. loss: 772671779.746308\n",
      "Total training time: 0.09 seconds.\n",
      "-- Epoch 321\n",
      "Norm: 6339703.18, NNZs: 11, Bias: 6958756.784442, T: 343470, Avg. loss: 763862857.438726\n",
      "Total training time: 0.09 seconds.\n",
      "-- Epoch 322\n",
      "Norm: 6337599.31, NNZs: 11, Bias: 6960387.823502, T: 344540, Avg. loss: 666757207.283812\n",
      "Total training time: 0.09 seconds.\n",
      "-- Epoch 323\n",
      "Norm: 6335482.36, NNZs: 11, Bias: 6962030.412506, T: 345610, Avg. loss: 654774097.514279\n",
      "Total training time: 0.09 seconds.\n",
      "-- Epoch 324\n",
      "Norm: 6333546.14, NNZs: 11, Bias: 6963512.032345, T: 346680, Avg. loss: 562425319.064309\n",
      "Total training time: 0.09 seconds.\n",
      "-- Epoch 325\n",
      "Norm: 6331672.18, NNZs: 11, Bias: 6964938.675067, T: 347750, Avg. loss: 541722474.115477\n",
      "Total training time: 0.09 seconds.\n",
      "-- Epoch 326\n",
      "Norm: 6329919.19, NNZs: 11, Bias: 6966256.169094, T: 348820, Avg. loss: 547694634.278358\n",
      "Total training time: 0.09 seconds.\n",
      "-- Epoch 327\n",
      "Norm: 6328070.10, NNZs: 11, Bias: 6967661.117272, T: 349890, Avg. loss: 514663427.728428\n",
      "Total training time: 0.09 seconds.\n",
      "-- Epoch 328\n",
      "Norm: 6326349.85, NNZs: 11, Bias: 6968949.941777, T: 350960, Avg. loss: 501352991.864431\n",
      "Total training time: 0.09 seconds.\n",
      "-- Epoch 329\n",
      "Norm: 6324679.05, NNZs: 11, Bias: 6970195.632405, T: 352030, Avg. loss: 457207596.850015\n",
      "Total training time: 0.09 seconds.\n",
      "-- Epoch 330\n",
      "Norm: 6323038.12, NNZs: 11, Bias: 6971414.771791, T: 353100, Avg. loss: 388753579.092146\n",
      "Total training time: 0.09 seconds.\n",
      "-- Epoch 331\n",
      "Norm: 6321422.82, NNZs: 11, Bias: 6972611.267740, T: 354170, Avg. loss: 379099991.902331\n",
      "Total training time: 0.09 seconds.\n",
      "-- Epoch 332\n",
      "Norm: 6319838.86, NNZs: 11, Bias: 6973779.175573, T: 355240, Avg. loss: 370486769.718536\n",
      "Total training time: 0.09 seconds.\n",
      "-- Epoch 333\n",
      "Norm: 6318304.44, NNZs: 11, Bias: 6974903.624366, T: 356310, Avg. loss: 367935173.426414\n",
      "Total training time: 0.09 seconds.\n",
      "-- Epoch 334\n",
      "Norm: 6316807.23, NNZs: 11, Bias: 6975995.144982, T: 357380, Avg. loss: 339079688.772738\n",
      "Total training time: 0.09 seconds.\n",
      "-- Epoch 335\n",
      "Norm: 6315322.44, NNZs: 11, Bias: 6977075.372874, T: 358450, Avg. loss: 327580944.664019\n",
      "Total training time: 0.09 seconds.\n",
      "-- Epoch 336\n",
      "Norm: 6313839.45, NNZs: 11, Bias: 6978154.618969, T: 359520, Avg. loss: 327565300.982894\n",
      "Total training time: 0.09 seconds.\n",
      "-- Epoch 337\n",
      "Norm: 6312557.07, NNZs: 11, Bias: 6979054.701687, T: 360590, Avg. loss: 284660512.627381\n",
      "Total training time: 0.09 seconds.\n",
      "-- Epoch 338\n",
      "Norm: 6311151.34, NNZs: 11, Bias: 6980065.456633, T: 361660, Avg. loss: 276221012.057606\n",
      "Total training time: 0.09 seconds.\n",
      "-- Epoch 339\n",
      "Norm: 6309804.72, NNZs: 11, Bias: 6981023.752327, T: 362730, Avg. loss: 265715152.429891\n",
      "Total training time: 0.09 seconds.\n",
      "-- Epoch 340\n",
      "Norm: 6308453.21, NNZs: 11, Bias: 6981986.668757, T: 363800, Avg. loss: 263890886.432916\n",
      "Total training time: 0.09 seconds.\n",
      "-- Epoch 341\n",
      "Norm: 6307233.49, NNZs: 11, Bias: 6982831.548063, T: 364870, Avg. loss: 240325490.742570\n",
      "Total training time: 0.09 seconds.\n",
      "-- Epoch 342\n",
      "Norm: 6306010.59, NNZs: 11, Bias: 6983679.414856, T: 365940, Avg. loss: 235696104.766124\n",
      "Total training time: 0.09 seconds.\n",
      "-- Epoch 343\n",
      "Norm: 6304822.58, NNZs: 11, Bias: 6984497.267044, T: 367010, Avg. loss: 195523599.881329\n",
      "Total training time: 0.09 seconds.\n",
      "-- Epoch 344\n",
      "Norm: 6303681.33, NNZs: 11, Bias: 6985272.676984, T: 368080, Avg. loss: 210588108.804629\n",
      "Total training time: 0.09 seconds.\n",
      "-- Epoch 345\n",
      "Norm: 6302588.72, NNZs: 11, Bias: 6986005.134197, T: 369150, Avg. loss: 202205562.876575\n",
      "Total training time: 0.09 seconds.\n",
      "-- Epoch 346\n",
      "Norm: 6301404.30, NNZs: 11, Bias: 6986819.710093, T: 370220, Avg. loss: 190606357.616699\n",
      "Total training time: 0.09 seconds.\n",
      "-- Epoch 347\n",
      "Norm: 6300361.86, NNZs: 11, Bias: 6987507.355853, T: 371290, Avg. loss: 169623679.816828\n",
      "Total training time: 0.09 seconds.\n",
      "-- Epoch 348\n",
      "Norm: 6299295.13, NNZs: 11, Bias: 6988217.104208, T: 372360, Avg. loss: 162402107.996999\n",
      "Total training time: 0.09 seconds.\n",
      "-- Epoch 349\n",
      "Norm: 6298330.96, NNZs: 11, Bias: 6988835.143207, T: 373430, Avg. loss: 160821991.354275\n",
      "Total training time: 0.09 seconds.\n",
      "-- Epoch 350\n",
      "Norm: 6297393.48, NNZs: 11, Bias: 6989429.947632, T: 374500, Avg. loss: 151371366.883044\n",
      "Total training time: 0.09 seconds.\n",
      "-- Epoch 351\n",
      "Norm: 6296446.07, NNZs: 11, Bias: 6990033.724536, T: 375570, Avg. loss: 139932406.076987\n",
      "Total training time: 0.09 seconds.\n",
      "-- Epoch 352\n",
      "Norm: 6295569.53, NNZs: 11, Bias: 6990574.510599, T: 376640, Avg. loss: 141586628.142189\n",
      "Total training time: 0.09 seconds.\n",
      "-- Epoch 353\n",
      "Norm: 6294616.87, NNZs: 11, Bias: 6991183.652546, T: 377710, Avg. loss: 130968677.670481\n",
      "Total training time: 0.09 seconds.\n",
      "-- Epoch 354\n",
      "Norm: 6293710.37, NNZs: 11, Bias: 6991751.363189, T: 378780, Avg. loss: 122341527.716855\n",
      "Total training time: 0.09 seconds.\n",
      "-- Epoch 355\n",
      "Norm: 6292855.26, NNZs: 11, Bias: 6992273.405427, T: 379850, Avg. loss: 112673919.662422\n",
      "Total training time: 0.09 seconds.\n",
      "-- Epoch 356\n",
      "Norm: 6292001.83, NNZs: 11, Bias: 6992794.110226, T: 380920, Avg. loss: 115431685.078740\n",
      "Total training time: 0.09 seconds.\n",
      "-- Epoch 357\n",
      "Norm: 6291146.47, NNZs: 11, Bias: 6993316.948313, T: 381990, Avg. loss: 113501643.060624\n",
      "Total training time: 0.09 seconds.\n",
      "-- Epoch 358\n",
      "Norm: 6290330.92, NNZs: 11, Bias: 6993804.153012, T: 383060, Avg. loss: 108225248.372980\n",
      "Total training time: 0.09 seconds.\n",
      "-- Epoch 359\n",
      "Norm: 6289529.98, NNZs: 11, Bias: 6994278.608952, T: 384130, Avg. loss: 112865106.088131\n",
      "Total training time: 0.09 seconds.\n",
      "-- Epoch 360\n",
      "Norm: 6288723.54, NNZs: 11, Bias: 6994758.317249, T: 385200, Avg. loss: 103101080.202918\n",
      "Total training time: 0.09 seconds.\n",
      "-- Epoch 361\n",
      "Norm: 6287976.01, NNZs: 11, Bias: 6995185.575833, T: 386270, Avg. loss: 92444071.911360\n",
      "Total training time: 0.10 seconds.\n",
      "-- Epoch 362\n",
      "Norm: 6287244.80, NNZs: 11, Bias: 6995598.484193, T: 387340, Avg. loss: 91836339.987037\n",
      "Total training time: 0.10 seconds.\n",
      "-- Epoch 363\n",
      "Norm: 6286503.55, NNZs: 11, Bias: 6996020.431003, T: 388410, Avg. loss: 88366704.770928\n",
      "Total training time: 0.10 seconds.\n",
      "-- Epoch 364\n",
      "Norm: 6285810.36, NNZs: 11, Bias: 6996399.641628, T: 389480, Avg. loss: 84879927.939635\n",
      "Total training time: 0.10 seconds.\n",
      "-- Epoch 365\n",
      "Norm: 6285093.33, NNZs: 11, Bias: 6996800.280040, T: 390550, Avg. loss: 84670902.180749\n",
      "Total training time: 0.10 seconds.\n",
      "-- Epoch 366\n",
      "Norm: 6284435.79, NNZs: 11, Bias: 6997148.237281, T: 391620, Avg. loss: 91376622.606555\n",
      "Total training time: 0.10 seconds.\n",
      "-- Epoch 367\n",
      "Norm: 6283774.25, NNZs: 11, Bias: 6997499.495308, T: 392690, Avg. loss: 82876094.282726\n",
      "Total training time: 0.10 seconds.\n",
      "-- Epoch 368\n",
      "Norm: 6283121.49, NNZs: 11, Bias: 6997843.337353, T: 393760, Avg. loss: 84710445.427623\n",
      "Total training time: 0.10 seconds.\n",
      "-- Epoch 369\n",
      "Norm: 6282489.36, NNZs: 11, Bias: 6998168.816527, T: 394830, Avg. loss: 83077068.243934\n",
      "Total training time: 0.10 seconds.\n",
      "-- Epoch 370\n",
      "Norm: 6281919.68, NNZs: 11, Bias: 6998438.880321, T: 395900, Avg. loss: 70148566.976892\n",
      "Total training time: 0.10 seconds.\n",
      "-- Epoch 371\n",
      "Norm: 6281303.90, NNZs: 11, Bias: 6998750.176541, T: 396970, Avg. loss: 71994689.646726\n",
      "Total training time: 0.10 seconds.\n",
      "-- Epoch 372\n",
      "Norm: 6280724.31, NNZs: 11, Bias: 6999029.207670, T: 398040, Avg. loss: 63982556.464049\n",
      "Total training time: 0.10 seconds.\n",
      "-- Epoch 373\n",
      "Norm: 6280170.17, NNZs: 11, Bias: 6999285.607985, T: 399110, Avg. loss: 61476650.949268\n",
      "Total training time: 0.10 seconds.\n",
      "-- Epoch 374\n",
      "Norm: 6279625.16, NNZs: 11, Bias: 6999534.105519, T: 400180, Avg. loss: 62789464.359702\n",
      "Total training time: 0.10 seconds.\n",
      "-- Epoch 375\n",
      "Norm: 6279059.56, NNZs: 11, Bias: 6999801.096583, T: 401250, Avg. loss: 66206401.206206\n",
      "Total training time: 0.10 seconds.\n",
      "-- Epoch 376\n",
      "Norm: 6278569.85, NNZs: 11, Bias: 7000000.099869, T: 402320, Avg. loss: 54022075.223958\n",
      "Total training time: 0.10 seconds.\n",
      "-- Epoch 377\n",
      "Norm: 6278062.30, NNZs: 11, Bias: 7000215.599505, T: 403390, Avg. loss: 59255193.468512\n",
      "Total training time: 0.10 seconds.\n",
      "-- Epoch 378\n",
      "Norm: 6277571.52, NNZs: 11, Bias: 7000416.284546, T: 404460, Avg. loss: 61611838.830295\n",
      "Total training time: 0.10 seconds.\n",
      "-- Epoch 379\n",
      "Norm: 6277086.37, NNZs: 11, Bias: 7000611.964476, T: 405530, Avg. loss: 60084854.777994\n",
      "Total training time: 0.10 seconds.\n",
      "-- Epoch 380\n",
      "Norm: 6276611.77, NNZs: 11, Bias: 7000798.808802, T: 406600, Avg. loss: 57615843.138755\n",
      "Total training time: 0.10 seconds.\n",
      "-- Epoch 381\n",
      "Norm: 6276108.21, NNZs: 11, Bias: 7001011.370137, T: 407670, Avg. loss: 56415460.216427\n",
      "Total training time: 0.10 seconds.\n",
      "-- Epoch 382\n",
      "Norm: 6275652.33, NNZs: 11, Bias: 7001181.599141, T: 408740, Avg. loss: 54148992.519215\n",
      "Total training time: 0.10 seconds.\n",
      "-- Epoch 383\n",
      "Norm: 6275195.22, NNZs: 11, Bias: 7001353.113879, T: 409810, Avg. loss: 53858072.920833\n",
      "Total training time: 0.10 seconds.\n",
      "-- Epoch 384\n",
      "Norm: 6274729.49, NNZs: 11, Bias: 7001532.398687, T: 410880, Avg. loss: 50690087.068359\n",
      "Total training time: 0.10 seconds.\n",
      "-- Epoch 385\n",
      "Norm: 6274248.47, NNZs: 11, Bias: 7001725.708724, T: 411950, Avg. loss: 61454195.368115\n",
      "Total training time: 0.10 seconds.\n",
      "-- Epoch 386\n",
      "Norm: 6273821.27, NNZs: 11, Bias: 7001870.813981, T: 413020, Avg. loss: 55772372.867319\n",
      "Total training time: 0.10 seconds.\n",
      "-- Epoch 387\n",
      "Norm: 6273377.09, NNZs: 11, Bias: 7002031.270617, T: 414090, Avg. loss: 52932966.793360\n",
      "Total training time: 0.10 seconds.\n",
      "-- Epoch 388\n",
      "Norm: 6272962.77, NNZs: 11, Bias: 7002165.099298, T: 415160, Avg. loss: 52341769.396375\n",
      "Total training time: 0.10 seconds.\n",
      "-- Epoch 389\n",
      "Norm: 6272535.47, NNZs: 11, Bias: 7002311.097329, T: 416230, Avg. loss: 52098417.724602\n",
      "Total training time: 0.10 seconds.\n",
      "-- Epoch 390\n",
      "Norm: 6272140.46, NNZs: 11, Bias: 7002428.088872, T: 417300, Avg. loss: 47058061.595470\n",
      "Total training time: 0.10 seconds.\n",
      "-- Epoch 391\n",
      "Norm: 6271740.12, NNZs: 11, Bias: 7002550.080710, T: 418370, Avg. loss: 50640905.745316\n",
      "Total training time: 0.10 seconds.\n",
      "-- Epoch 392\n",
      "Norm: 6271382.73, NNZs: 11, Bias: 7002633.819913, T: 419440, Avg. loss: 50359072.468180\n",
      "Total training time: 0.10 seconds.\n",
      "-- Epoch 393\n",
      "Norm: 6271024.79, NNZs: 11, Bias: 7002718.260386, T: 420510, Avg. loss: 52641062.993561\n",
      "Total training time: 0.10 seconds.\n",
      "-- Epoch 394\n",
      "Norm: 6270657.13, NNZs: 11, Bias: 7002811.399658, T: 421580, Avg. loss: 48491433.353423\n",
      "Total training time: 0.10 seconds.\n",
      "-- Epoch 395\n",
      "Norm: 6270270.61, NNZs: 11, Bias: 7002921.967057, T: 422650, Avg. loss: 51553012.404639\n",
      "Total training time: 0.10 seconds.\n",
      "-- Epoch 396\n",
      "Norm: 6269901.53, NNZs: 11, Bias: 7003016.802436, T: 423720, Avg. loss: 50128143.580798\n",
      "Total training time: 0.10 seconds.\n",
      "-- Epoch 397\n",
      "Norm: 6269562.50, NNZs: 11, Bias: 7003084.894968, T: 424790, Avg. loss: 49853522.100486\n",
      "Total training time: 0.10 seconds.\n",
      "-- Epoch 398\n",
      "Norm: 6269217.19, NNZs: 11, Bias: 7003158.861657, T: 425860, Avg. loss: 44333290.865259\n",
      "Total training time: 0.10 seconds.\n",
      "-- Epoch 399\n",
      "Norm: 6268899.56, NNZs: 11, Bias: 7003208.201317, T: 426930, Avg. loss: 45539722.854497\n",
      "Total training time: 0.10 seconds.\n",
      "-- Epoch 400\n",
      "Norm: 6268561.37, NNZs: 11, Bias: 7003276.172569, T: 428000, Avg. loss: 51337164.771219\n",
      "Total training time: 0.10 seconds.\n",
      "-- Epoch 401\n",
      "Norm: 6268245.87, NNZs: 11, Bias: 7003323.777833, T: 429070, Avg. loss: 43208872.959341\n",
      "Total training time: 0.10 seconds.\n",
      "-- Epoch 402\n",
      "Norm: 6267927.05, NNZs: 11, Bias: 7003374.674074, T: 430140, Avg. loss: 48981372.790233\n",
      "Total training time: 0.10 seconds.\n",
      "-- Epoch 403\n",
      "Norm: 6267620.10, NNZs: 11, Bias: 7003415.265270, T: 431210, Avg. loss: 48481943.759237\n",
      "Total training time: 0.11 seconds.\n",
      "-- Epoch 404\n",
      "Norm: 6267345.20, NNZs: 11, Bias: 7003427.168150, T: 432280, Avg. loss: 45432816.429138\n",
      "Total training time: 0.11 seconds.\n",
      "-- Epoch 405\n",
      "Norm: 6267074.16, NNZs: 11, Bias: 7003435.728410, T: 433350, Avg. loss: 44544854.601199\n",
      "Total training time: 0.11 seconds.\n",
      "-- Epoch 406\n",
      "Norm: 6266810.05, NNZs: 11, Bias: 7003438.316773, T: 434420, Avg. loss: 43391203.633291\n",
      "Total training time: 0.11 seconds.\n",
      "-- Epoch 407\n",
      "Norm: 6266530.38, NNZs: 11, Bias: 7003454.651370, T: 435490, Avg. loss: 44178463.787560\n",
      "Total training time: 0.11 seconds.\n",
      "-- Epoch 408\n",
      "Norm: 6266224.87, NNZs: 11, Bias: 7003494.615097, T: 436560, Avg. loss: 45384662.543374\n",
      "Total training time: 0.11 seconds.\n",
      "-- Epoch 409\n",
      "Norm: 6265954.52, NNZs: 11, Bias: 7003503.181413, T: 437630, Avg. loss: 44055053.612212\n",
      "Total training time: 0.11 seconds.\n",
      "-- Epoch 410\n",
      "Norm: 6265666.31, NNZs: 11, Bias: 7003528.006671, T: 438700, Avg. loss: 44080731.029160\n",
      "Total training time: 0.11 seconds.\n",
      "-- Epoch 411\n",
      "Norm: 6265400.63, NNZs: 11, Bias: 7003532.677372, T: 439770, Avg. loss: 45694087.295252\n",
      "Total training time: 0.11 seconds.\n",
      "Convergence after 411 epochs took 0.11 seconds\n"
     ]
    }
   ],
   "source": [
    "#sgd_reg = SGDRegressor(verbose=True, n_iter_no_change=10, shuffle=True, max_iter=100000)\n",
    "sgd_reg = SGDRegressor(verbose=True, n_iter_no_change=10, shuffle=True, max_iter=100000, random_state=37)\n",
    "sgd_reg.fit(x_train,y_train)\n",
    "resultado_sgd=sgd_reg.predict(x_test)"
   ]
  },
  {
   "cell_type": "code",
   "execution_count": 307,
   "metadata": {},
   "outputs": [
    {
     "name": "stdout",
     "output_type": "stream",
     "text": [
      "Valor mínimo: -2508.383715460077\n",
      "Valor máximo: 38778.185885396786\n",
      "Média: 11841.84287259317\n",
      "Intercept: [7003532.67737165]\n"
     ]
    }
   ],
   "source": [
    "print(f'Valor mínimo: {min(resultado_sgd)}')\n",
    "print(f'Valor máximo: {max(resultado_sgd)}')\n",
    "print(f'Média: {np.mean(resultado_sgd)}')\n",
    "print(f'Intercept: {sgd_reg.intercept_}')"
   ]
  },
  {
   "cell_type": "code",
   "execution_count": 308,
   "metadata": {},
   "outputs": [
    {
     "name": "stdout",
     "output_type": "stream",
     "text": [
      "34697701.541430965\n"
     ]
    }
   ],
   "source": [
    "#o melhor valor é 0.0\n",
    "print(mean_squared_error(y_test, resultado_sgd))"
   ]
  },
  {
   "cell_type": "code",
   "execution_count": 309,
   "metadata": {},
   "outputs": [
    {
     "name": "stdout",
     "output_type": "stream",
     "text": [
      "3892.524225189583\n"
     ]
    }
   ],
   "source": [
    "#o melhor valor é 0.0\n",
    "print(mean_absolute_error(y_test, resultado_sgd))"
   ]
  },
  {
   "cell_type": "code",
   "execution_count": 310,
   "metadata": {},
   "outputs": [
    {
     "name": "stdout",
     "output_type": "stream",
     "text": [
      "0.7765025117563066\n"
     ]
    }
   ],
   "source": [
    "#o melhor valor é 1.0\n",
    "print(r2_score(y_test, resultado_sgd))"
   ]
  },
  {
   "cell_type": "code",
   "execution_count": 279,
   "metadata": {},
   "outputs": [
    {
     "name": "stdout",
     "output_type": "stream",
     "text": [
      "MSE do método dos Mínimos Quadrados: 33596915.851361476\n",
      "MSE do método dos Gradiente Descendente: 34697701.541430965\n"
     ]
    }
   ],
   "source": [
    "#Comparação dos resultados no MSE\n",
    "print(f'MSE do método dos Mínimos Quadrados: {mean_squared_error(y_test, resultado)}')\n",
    "print(f'MSE do método dos Gradiente Descendente: {mean_squared_error(y_test, resultado_sgd)}')"
   ]
  },
  {
   "cell_type": "markdown",
   "metadata": {},
   "source": [
    "### Polinomial Features"
   ]
  },
  {
   "cell_type": "code",
   "execution_count": 280,
   "metadata": {},
   "outputs": [],
   "source": [
    "from sklearn.preprocessing import PolynomialFeatures\n",
    "pol_features = PolynomialFeatures(degree=2, include_bias=False)\n",
    "X_pol = pol_features.fit_transform(x_train)\n"
   ]
  },
  {
   "cell_type": "code",
   "execution_count": 281,
   "metadata": {},
   "outputs": [
    {
     "data": {
      "text/plain": [
       "array([4.600000e+01, 1.995000e+01, 2.000000e+00, 1.000000e+00,\n",
       "       0.000000e+00, 0.000000e+00, 1.000000e+00, 0.000000e+00,\n",
       "       0.000000e+00, 1.000000e+00, 0.000000e+00, 2.116000e+03,\n",
       "       9.177000e+02, 9.200000e+01, 4.600000e+01, 0.000000e+00,\n",
       "       0.000000e+00, 4.600000e+01, 0.000000e+00, 0.000000e+00,\n",
       "       4.600000e+01, 0.000000e+00, 3.980025e+02, 3.990000e+01,\n",
       "       1.995000e+01, 0.000000e+00, 0.000000e+00, 1.995000e+01,\n",
       "       0.000000e+00, 0.000000e+00, 1.995000e+01, 0.000000e+00,\n",
       "       4.000000e+00, 2.000000e+00, 0.000000e+00, 0.000000e+00,\n",
       "       2.000000e+00, 0.000000e+00, 0.000000e+00, 2.000000e+00,\n",
       "       0.000000e+00, 1.000000e+00, 0.000000e+00, 0.000000e+00,\n",
       "       1.000000e+00, 0.000000e+00, 0.000000e+00, 1.000000e+00,\n",
       "       0.000000e+00, 0.000000e+00, 0.000000e+00, 0.000000e+00,\n",
       "       0.000000e+00, 0.000000e+00, 0.000000e+00, 0.000000e+00,\n",
       "       0.000000e+00, 0.000000e+00, 0.000000e+00, 0.000000e+00,\n",
       "       0.000000e+00, 0.000000e+00, 1.000000e+00, 0.000000e+00,\n",
       "       0.000000e+00, 1.000000e+00, 0.000000e+00, 0.000000e+00,\n",
       "       0.000000e+00, 0.000000e+00, 0.000000e+00, 0.000000e+00,\n",
       "       0.000000e+00, 0.000000e+00, 1.000000e+00, 0.000000e+00,\n",
       "       0.000000e+00])"
      ]
     },
     "execution_count": 281,
     "metadata": {},
     "output_type": "execute_result"
    }
   ],
   "source": [
    "X_pol[0]"
   ]
  },
  {
   "cell_type": "code",
   "execution_count": 282,
   "metadata": {},
   "outputs": [
    {
     "data": {
      "text/plain": [
       "(-13917.48175926089,\n",
       " array([-2.84732561e+01,  5.15505568e+02,  3.59267527e+02,  2.55646388e+02,\n",
       "        -2.55646388e+02, -2.89060355e+01, -3.99422891e+02,  3.42838566e+02,\n",
       "         8.54903605e+01,  3.80409587e+03, -3.80409587e+03,  3.96958227e+00,\n",
       "         5.82334116e-01, -7.24743992e+00, -2.30677757e+01, -5.40548039e+00,\n",
       "        -4.10391878e+01, -1.64986273e+01,  9.04658405e+00,  2.00179750e+01,\n",
       "        -1.61116610e+01, -1.23615951e+01, -7.02876215e+00,  8.39317794e+00,\n",
       "         2.49043142e+02,  2.66462426e+02,  1.90701362e+02,  1.63363353e+02,\n",
       "         6.75714006e+01,  9.38694524e+01, -4.79928310e+02,  9.95433878e+02,\n",
       "        -8.36247027e+01,  3.03453576e+02,  5.58139514e+01,  3.45625192e+02,\n",
       "         3.50744093e+02, -5.99367780e+01, -2.77164980e+02,  4.02982175e+02,\n",
       "        -4.37146483e+01,  2.55646388e+02,  0.00000000e+00,  4.80642944e+02,\n",
       "        -3.43866503e+02, -8.89314966e+01,  2.07801444e+02,  2.09420549e+03,\n",
       "        -1.83855910e+03, -2.55646388e+02, -5.09548979e+02, -5.55563883e+01,\n",
       "         4.31770063e+02, -1.22311084e+02,  1.70989038e+03, -1.96553677e+03,\n",
       "        -2.89060355e+01,  0.00000000e+00,  0.00000000e+00,  0.00000000e+00,\n",
       "         9.19683815e+02, -9.48589850e+02, -3.99422891e+02,  0.00000000e+00,\n",
       "         0.00000000e+00,  1.04311033e+03, -1.44253322e+03,  3.42838566e+02,\n",
       "         0.00000000e+00,  1.55982788e+03, -1.21698931e+03,  8.54903605e+01,\n",
       "         2.81473847e+02, -1.95983486e+02,  3.80409587e+03,  0.00000000e+00,\n",
       "        -3.80409587e+03]))"
      ]
     },
     "execution_count": 282,
     "metadata": {},
     "output_type": "execute_result"
    }
   ],
   "source": [
    "lin_reg_poly = LinearRegression()\n",
    "lin_reg_poly.fit(X_pol, y_train)\n",
    "lin_reg_poly.intercept_, lin_reg_poly.coef_"
   ]
  },
  {
   "cell_type": "code",
   "execution_count": 283,
   "metadata": {},
   "outputs": [],
   "source": [
    "#Testando o polynomial features\n",
    "from sklearn.pipeline import Pipeline\n",
    "polynomial_regression = Pipeline([\n",
    "(\"poly_features\", PolynomialFeatures(degree=2, include_bias=False)),\n",
    "(\"lin_reg\", LinearRegression()),\n",
    "], verbose=True)"
   ]
  },
  {
   "cell_type": "code",
   "execution_count": 284,
   "metadata": {},
   "outputs": [
    {
     "name": "stdout",
     "output_type": "stream",
     "text": [
      "[Pipeline] ..... (step 1 of 2) Processing poly_features, total=   0.0s\n",
      "[Pipeline] ........... (step 2 of 2) Processing lin_reg, total=   0.0s\n"
     ]
    }
   ],
   "source": [
    "polynomial_regression.fit(x_train, y_train)\n",
    "resultado_poly = polynomial_regression.predict(x_test)"
   ]
  },
  {
   "cell_type": "code",
   "execution_count": 285,
   "metadata": {},
   "outputs": [
    {
     "name": "stdout",
     "output_type": "stream",
     "text": [
      "20712805.987918198\n"
     ]
    }
   ],
   "source": [
    "#o melhor valor é 0.0\n",
    "print(mean_squared_error(y_test, resultado_poly))"
   ]
  },
  {
   "cell_type": "code",
   "execution_count": 286,
   "metadata": {},
   "outputs": [
    {
     "name": "stdout",
     "output_type": "stream",
     "text": [
      "2729.5001336393625\n"
     ]
    }
   ],
   "source": [
    "#o melhor valor é 0.0\n",
    "print(mean_absolute_error(y_test, resultado_poly))"
   ]
  },
  {
   "cell_type": "code",
   "execution_count": 287,
   "metadata": {},
   "outputs": [
    {
     "name": "stdout",
     "output_type": "stream",
     "text": [
      "0.8665830903164851\n"
     ]
    }
   ],
   "source": [
    "#o melhor valor é 1.0\n",
    "print(r2_score(y_test, resultado_poly))"
   ]
  },
  {
   "cell_type": "code",
   "execution_count": 288,
   "metadata": {},
   "outputs": [
    {
     "name": "stdout",
     "output_type": "stream",
     "text": [
      "0.8403111432471425\n"
     ]
    }
   ],
   "source": [
    "from sklearn.preprocessing import PolynomialFeatures\n",
    "from sklearn import linear_model\n",
    "\n",
    "# Create linear regression object\n",
    "poly = PolynomialFeatures(degree=2)\n",
    "\n",
    "X_train = poly.fit_transform(x_train)\n",
    "X_test = poly.fit_transform(x_test)\n",
    "\n",
    "model = linear_model.LinearRegression()\n",
    "model.fit(X_train, y_train)\n",
    "\n",
    "print(model.score(X_train, y_train))"
   ]
  },
  {
   "cell_type": "code",
   "execution_count": 289,
   "metadata": {},
   "outputs": [],
   "source": [
    "resultado_poly_teste = model.predict(X_test)"
   ]
  },
  {
   "cell_type": "code",
   "execution_count": 290,
   "metadata": {},
   "outputs": [
    {
     "name": "stdout",
     "output_type": "stream",
     "text": [
      "21006099.97711586\n",
      "2696.6380577854475\n",
      "0.8646939026472564\n"
     ]
    }
   ],
   "source": [
    "#o melhor valor é 0.0\n",
    "print(mean_squared_error(y_test, resultado_poly_teste))\n",
    "#o melhor valor é 0.0\n",
    "print(mean_absolute_error(y_test, resultado_poly_teste))\n",
    "#o melhor valor é 1.0\n",
    "print(r2_score(y_test, resultado_poly_teste))"
   ]
  },
  {
   "cell_type": "markdown",
   "metadata": {},
   "source": [
    "### Regularização"
   ]
  },
  {
   "cell_type": "code",
   "execution_count": 291,
   "metadata": {},
   "outputs": [],
   "source": [
    "from sklearn.linear_model import Ridge\n",
    "ridge_reg = Ridge(alpha=0.1, solver=\"cholesky\")\n",
    "ridge_reg.fit(x_train, y_train)\n",
    "resultado_ridge = ridge_reg.predict(x_test)"
   ]
  },
  {
   "cell_type": "code",
   "execution_count": 292,
   "metadata": {},
   "outputs": [],
   "source": [
    "from sklearn.linear_model import Lasso\n",
    "lasso_reg = Lasso(alpha=0.1)\n",
    "lasso_reg.fit(x_train, y_train)\n",
    "resultado_lasso = lasso_reg.predict(x_test)"
   ]
  },
  {
   "cell_type": "code",
   "execution_count": 293,
   "metadata": {},
   "outputs": [],
   "source": [
    "#l1_ratio define o nível de mixagem entre a Ridge Regression e Lasso Regression\n",
    "#l1_ratio = 0 é equivalente ao Ridge Regression e l1_ratio = 1 é equivalente ao Lasso Regression\n",
    "from sklearn.linear_model import ElasticNet\n",
    "elastic_net = ElasticNet(alpha=0.1, l1_ratio=0.5)\n",
    "elastic_net.fit(x_train, y_train)\n",
    "resultado_elastic = elastic_net.predict(x_test)"
   ]
  },
  {
   "cell_type": "code",
   "execution_count": 294,
   "metadata": {},
   "outputs": [
    {
     "name": "stdout",
     "output_type": "stream",
     "text": [
      "MSE, MAE E R2 SEM REGULARIZAÇÃO\n",
      "33596915.851361476\n",
      "4181.1944737536505\n",
      "0.7835929767120722\n"
     ]
    }
   ],
   "source": [
    "print('MSE, MAE E R2 SEM REGULARIZAÇÃO')\n",
    "print(mean_squared_error(y_test, resultado))\n",
    "print(mean_absolute_error(y_test, resultado))\n",
    "print(r2_score(y_test, resultado))"
   ]
  },
  {
   "cell_type": "code",
   "execution_count": 295,
   "metadata": {},
   "outputs": [
    {
     "name": "stdout",
     "output_type": "stream",
     "text": [
      "MSE, MAE E R2 SEM REGULARIZAÇÃO RIDGE\n",
      "33599158.94621082\n",
      "4181.804730676914\n",
      "0.7835785283180159\n"
     ]
    }
   ],
   "source": [
    "print('MSE, MAE E R2 SEM REGULARIZAÇÃO RIDGE')\n",
    "print(mean_squared_error(y_test, resultado_ridge))\n",
    "print(mean_absolute_error(y_test, resultado_ridge))\n",
    "print(r2_score(y_test, resultado_ridge))"
   ]
  },
  {
   "cell_type": "code",
   "execution_count": 296,
   "metadata": {},
   "outputs": [
    {
     "name": "stdout",
     "output_type": "stream",
     "text": [
      "MSE, MAE E R2 SEM REGULARIZAÇÃO LASSO\n",
      "33597188.764974795\n",
      "4181.251200608466\n",
      "0.7835912188000385\n"
     ]
    }
   ],
   "source": [
    "print('MSE, MAE E R2 SEM REGULARIZAÇÃO LASSO')\n",
    "print(mean_squared_error(y_test, resultado_lasso))\n",
    "print(mean_absolute_error(y_test, resultado_lasso))\n",
    "print(r2_score(y_test, resultado_lasso))"
   ]
  },
  {
   "cell_type": "code",
   "execution_count": 297,
   "metadata": {},
   "outputs": [
    {
     "name": "stdout",
     "output_type": "stream",
     "text": [
      "MSE, MAE E R2 COM REGULARIZAÇÃO ELASTICNET MEIO TERMO\n",
      "36213760.61461093\n",
      "4497.633170480235\n",
      "0.7667371561323844\n"
     ]
    }
   ],
   "source": [
    "print('MSE, MAE E R2 COM REGULARIZAÇÃO ELASTICNET MEIO TERMO')\n",
    "print(mean_squared_error(y_test, resultado_elastic))\n",
    "print(mean_absolute_error(y_test, resultado_elastic))\n",
    "print(r2_score(y_test, resultado_elastic))"
   ]
  },
  {
   "cell_type": "markdown",
   "metadata": {},
   "source": [
    "### Curvas de aprendizado"
   ]
  },
  {
   "cell_type": "code",
   "execution_count": 298,
   "metadata": {},
   "outputs": [],
   "source": [
    "def plot_learning_curves(model, X, y):\n",
    "    X_train, X_val, y_train, y_val = train_test_split(X, y, test_size=0.2)\n",
    "    train_errors, val_errors = [], []\n",
    "    for m in range(1, len(X_train)):\n",
    "        model.fit(X_train[:m], y_train[:m])\n",
    "        y_train_predict = model.predict(X_train[:m])\n",
    "        y_val_predict = model.predict(X_val)\n",
    "        train_errors.append(mean_squared_error(y_train_predict, y_train[:m]))\n",
    "        val_errors.append(mean_squared_error(y_val_predict, y_val))\n",
    "    plt.xlabel(\"Número de instâncias de treinamento\")\n",
    "    plt.ylabel(\"RMSE\")\n",
    "    plt.plot(np.sqrt(train_errors), \"r-\", linewidth=2, label=\"Conjunto de treinamento\")  \n",
    "    plt.plot(np.sqrt(val_errors), \"b-\", linewidth=2, label=\"Conjunto de validação\")\n",
    "    plt.legend()"
   ]
  },
  {
   "cell_type": "code",
   "execution_count": 299,
   "metadata": {},
   "outputs": [
    {
     "data": {
      "image/png": "[encoded data removed]",
      "text/plain": [
       "<Figure size 600x400 with 1 Axes>"
      ]
     },
     "metadata": {},
     "output_type": "display_data"
    }
   ],
   "source": [
    "curva_lin_reg = LinearRegression()\n",
    "plot_learning_curves(curva_lin_reg, pd.concat([x_train, x_test]), pd.concat([y_train, y_test]))"
   ]
  },
  {
   "cell_type": "code",
   "execution_count": 300,
   "metadata": {},
   "outputs": [
    {
     "data": {
      "image/png": "[encoded data removed]",
      "text/plain": [
       "<Figure size 600x400 with 1 Axes>"
      ]
     },
     "metadata": {},
     "output_type": "display_data"
    }
   ],
   "source": [
    "polynomial_regression = Pipeline([\n",
    "    (\"poly_features\", PolynomialFeatures(degree=2, include_bias=False)),\n",
    "    (\"lin_reg\", LinearRegression()),\n",
    "    ])\n",
    "\n",
    "plot_learning_curves(polynomial_regression, pd.concat([x_train, x_test]), pd.concat([y_train, y_test]))"
   ]
  },
  {
   "cell_type": "code",
   "execution_count": null,
   "metadata": {},
   "outputs": [],
   "source": []
  }
 ],
 "metadata": {
  "kernelspec": {
   "display_name": "Python 3.10.0 64-bit",
   "language": "python",
   "name": "python3"
  },
  "language_info": {
   "codemirror_mode": {
    "name": "ipython",
    "version": 3
   },
   "file_extension": ".py",
   "mimetype": "text/x-python",
   "name": "python",
   "nbconvert_exporter": "python",
   "pygments_lexer": "ipython3",
   "version": "3.10.0"
  },
  "vscode": {
   "interpreter": {
    "hash": "cb1c843bd532218b5b3145213f753416a791e8d8e9251cccf1adcef2f98ce6f8"
   }
  }
 },
 "nbformat": 4,
 "nbformat_minor": 2
}
